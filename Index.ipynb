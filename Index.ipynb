{
 "cells": [
  {
   "cell_type": "markdown",
   "metadata": {},
   "source": [
    "# Tanzania Water Wells"
   ]
  },
  {
   "cell_type": "markdown",
   "metadata": {},
   "source": [
    "\n",
    "Access to water is crucial for daily life and well-being, with its scarcity or inadequacy often leading to significant discomfort and economic challenges, sometimes resulting in poverty. To address these issues, Tanzania is implementing a strategy to provide wells across the country. With a population of over 57 million people relying on these water points, it is essential to maintain their functionality. Although many wells are operational, some require repairs, and others have failed. Efficiently identifying and addressing these problems will improve water access and enhance the quality of life for Tanzanian communities."
   ]
  },
  {
   "cell_type": "markdown",
   "metadata": {},
   "source": [
    "# Objectives"
   ]
  },
  {
   "cell_type": "markdown",
   "metadata": {},
   "source": [
    "Classify water pumps as Functional, Needs Repair, or Non-Functional using data from Taarifa and the Tanzanian Ministry of Water, based on variables like pump type, installation date, and management practices."
   ]
  },
  {
   "cell_type": "markdown",
   "metadata": {},
   "source": [
    "Use predictive insights to optimize maintenance scheduling and resource allocation, reducing pump downtime and ensuring a steady supply of clean water to Tanzanian communities."
   ]
  },
  {
   "cell_type": "markdown",
   "metadata": {},
   "source": [
    "Data Understanding.\n",
    "1. Import data\n",
    "2. Collect information about the data\n",
    "3. Describe the data\n",
    "4. Reference.\n",
    "The data for this project was provided by [Driven Data](https://www.drivendata.org/competitions/7/pump-it-up-data-mining-the-water-table/). This data consists of information from various wells in Tanzania."
   ]
  },
  {
   "cell_type": "code",
   "execution_count": 4,
   "metadata": {},
   "outputs": [],
   "source": [
    "import pandas as pd\n",
    "import numpy as np\n",
    "import seaborn as sns\n",
    "import matplotlib.pyplot as plt\n",
    "%matplotlib inline\n",
    "#Ignore warnings\n",
    "import warnings\n",
    "warnings.filterwarnings('ignore')\n",
    "# Data Understanding\n",
    "# loading the dataset using the compression zip\n",
    "\n",
    "data_values = pd.read_csv('Data\\Training set values.csv')   # Training set\n",
    "data_labels = pd.read_csv('Data\\Training set labels.csv')  # Training set labels              "
   ]
  },
  {
   "cell_type": "code",
   "execution_count": 6,
   "metadata": {},
   "outputs": [
    {
     "data": {
      "text/html": [
       "<div>\n",
       "<style scoped>\n",
       "    .dataframe tbody tr th:only-of-type {\n",
       "        vertical-align: middle;\n",
       "    }\n",
       "\n",
       "    .dataframe tbody tr th {\n",
       "        vertical-align: top;\n",
       "    }\n",
       "\n",
       "    .dataframe thead th {\n",
       "        text-align: right;\n",
       "    }\n",
       "</style>\n",
       "<table border=\"1\" class=\"dataframe\">\n",
       "  <thead>\n",
       "    <tr style=\"text-align: right;\">\n",
       "      <th></th>\n",
       "      <th>id</th>\n",
       "      <th>status_group</th>\n",
       "    </tr>\n",
       "  </thead>\n",
       "  <tbody>\n",
       "    <tr>\n",
       "      <th>0</th>\n",
       "      <td>69572</td>\n",
       "      <td>functional</td>\n",
       "    </tr>\n",
       "    <tr>\n",
       "      <th>1</th>\n",
       "      <td>8776</td>\n",
       "      <td>functional</td>\n",
       "    </tr>\n",
       "    <tr>\n",
       "      <th>2</th>\n",
       "      <td>34310</td>\n",
       "      <td>functional</td>\n",
       "    </tr>\n",
       "    <tr>\n",
       "      <th>3</th>\n",
       "      <td>67743</td>\n",
       "      <td>non functional</td>\n",
       "    </tr>\n",
       "    <tr>\n",
       "      <th>4</th>\n",
       "      <td>19728</td>\n",
       "      <td>functional</td>\n",
       "    </tr>\n",
       "  </tbody>\n",
       "</table>\n",
       "</div>"
      ],
      "text/plain": [
       "      id    status_group\n",
       "0  69572      functional\n",
       "1   8776      functional\n",
       "2  34310      functional\n",
       "3  67743  non functional\n",
       "4  19728      functional"
      ]
     },
     "execution_count": 6,
     "metadata": {},
     "output_type": "execute_result"
    }
   ],
   "source": [
    "# display the first 5 rows of the labels\n",
    "data_labels.head()\n"
   ]
  },
  {
   "cell_type": "code",
   "execution_count": 9,
   "metadata": {},
   "outputs": [
    {
     "name": "stdout",
     "output_type": "stream",
     "text": [
      "Index(['id', 'amount_tsh', 'date_recorded', 'funder', 'gps_height',\n",
      "       'installer', 'longitude', 'latitude', 'wpt_name', 'num_private',\n",
      "       'basin', 'subvillage', 'region', 'region_code', 'district_code', 'lga',\n",
      "       'ward', 'population', 'public_meeting', 'recorded_by',\n",
      "       'scheme_management', 'scheme_name', 'permit', 'construction_year',\n",
      "       'extraction_type', 'extraction_type_group', 'extraction_type_class',\n",
      "       'management', 'management_group', 'payment', 'payment_type',\n",
      "       'water_quality', 'quality_group', 'quantity', 'quantity_group',\n",
      "       'source', 'source_type', 'source_class', 'waterpoint_type',\n",
      "       'waterpoint_type_group'],\n",
      "      dtype='object')\n",
      "Index(['id', 'status_group'], dtype='object')\n"
     ]
    }
   ],
   "source": [
    "print(data_values.columns)\n",
    "print(data_labels.columns)"
   ]
  },
  {
   "cell_type": "markdown",
   "metadata": {},
   "source": [
    "Here we printed both columns of labels and values. To check if both have the ID column. The id column is listed hence us merging the two dta sets will not fail as it knows which column to use to join the data."
   ]
  },
  {
   "cell_type": "code",
   "execution_count": 10,
   "metadata": {},
   "outputs": [
    {
     "name": "stdout",
     "output_type": "stream",
     "text": [
      "['id', 'amount_tsh', 'date_recorded', 'funder', 'gps_height', 'installer', 'longitude', 'latitude', 'wpt_name', 'num_private', 'basin', 'subvillage', 'region', 'region_code', 'district_code', 'lga', 'ward', 'population', 'public_meeting', 'recorded_by', 'scheme_management', 'scheme_name', 'permit', 'construction_year', 'extraction_type', 'extraction_type_group', 'extraction_type_class', 'management', 'management_group', 'payment', 'payment_type', 'water_quality', 'quality_group', 'quantity', 'quantity_group', 'source', 'source_type', 'source_class', 'waterpoint_type', 'waterpoint_type_group']\n",
      "['id', 'status_group']\n",
      "id                         int64\n",
      "amount_tsh               float64\n",
      "date_recorded             object\n",
      "funder                    object\n",
      "gps_height                 int64\n",
      "installer                 object\n",
      "longitude                float64\n",
      "latitude                 float64\n",
      "wpt_name                  object\n",
      "num_private                int64\n",
      "basin                     object\n",
      "subvillage                object\n",
      "region                    object\n",
      "region_code                int64\n",
      "district_code              int64\n",
      "lga                       object\n",
      "ward                      object\n",
      "population                 int64\n",
      "public_meeting            object\n",
      "recorded_by               object\n",
      "scheme_management         object\n",
      "scheme_name               object\n",
      "permit                    object\n",
      "construction_year          int64\n",
      "extraction_type           object\n",
      "extraction_type_group     object\n",
      "extraction_type_class     object\n",
      "management                object\n",
      "management_group          object\n",
      "payment                   object\n",
      "payment_type              object\n",
      "water_quality             object\n",
      "quality_group             object\n",
      "quantity                  object\n",
      "quantity_group            object\n",
      "source                    object\n",
      "source_type               object\n",
      "source_class              object\n",
      "waterpoint_type           object\n",
      "waterpoint_type_group     object\n",
      "dtype: object\n",
      "id               int64\n",
      "status_group    object\n",
      "dtype: object\n"
     ]
    }
   ],
   "source": [
    "# Check for exact column names\n",
    "print(data_values.columns.tolist())\n",
    "print(data_labels.columns.tolist())\n",
    "\n",
    "# Check data types\n",
    "print(data_values.dtypes)\n",
    "print(data_labels.dtypes)"
   ]
  },
  {
   "cell_type": "markdown",
   "metadata": {},
   "source": [
    "In the above we verified both the column and the data type. To ensure id is actually named id in both data frames and has the correct data type ewhich in the above case is interger. Sometimes column names can be formatted differently eg, id and ID."
   ]
  },
  {
   "cell_type": "code",
   "execution_count": 11,
   "metadata": {},
   "outputs": [
    {
     "name": "stdout",
     "output_type": "stream",
     "text": [
      "0\n",
      "0\n",
      "      id  amount_tsh date_recorded        funder  gps_height     installer  \\\n",
      "0  69572      6000.0    2011-03-14         Roman        1390         Roman   \n",
      "1   8776         0.0    2013-03-06       Grumeti        1399       GRUMETI   \n",
      "2  34310        25.0    2013-02-25  Lottery Club         686  World vision   \n",
      "3  67743         0.0    2013-01-28        Unicef         263        UNICEF   \n",
      "4  19728         0.0    2011-07-13   Action In A           0       Artisan   \n",
      "\n",
      "   longitude   latitude              wpt_name  num_private  ... payment_type  \\\n",
      "0  34.938093  -9.856322                  none            0  ...     annually   \n",
      "1  34.698766  -2.147466              Zahanati            0  ...    never pay   \n",
      "2  37.460664  -3.821329           Kwa Mahundi            0  ...   per bucket   \n",
      "3  38.486161 -11.155298  Zahanati Ya Nanyumbu            0  ...    never pay   \n",
      "4  31.130847  -1.825359               Shuleni            0  ...    never pay   \n",
      "\n",
      "  water_quality quality_group      quantity  quantity_group  \\\n",
      "0          soft          good        enough          enough   \n",
      "1          soft          good  insufficient    insufficient   \n",
      "2          soft          good        enough          enough   \n",
      "3          soft          good           dry             dry   \n",
      "4          soft          good      seasonal        seasonal   \n",
      "\n",
      "                 source           source_type  source_class  \\\n",
      "0                spring                spring   groundwater   \n",
      "1  rainwater harvesting  rainwater harvesting       surface   \n",
      "2                   dam                   dam       surface   \n",
      "3           machine dbh              borehole   groundwater   \n",
      "4  rainwater harvesting  rainwater harvesting       surface   \n",
      "\n",
      "               waterpoint_type waterpoint_type_group  \n",
      "0           communal standpipe    communal standpipe  \n",
      "1           communal standpipe    communal standpipe  \n",
      "2  communal standpipe multiple    communal standpipe  \n",
      "3  communal standpipe multiple    communal standpipe  \n",
      "4           communal standpipe    communal standpipe  \n",
      "\n",
      "[5 rows x 40 columns]\n",
      "      id    status_group\n",
      "0  69572      functional\n",
      "1   8776      functional\n",
      "2  34310      functional\n",
      "3  67743  non functional\n",
      "4  19728      functional\n"
     ]
    }
   ],
   "source": [
    "# Check for duplicates\n",
    "print(data_values['id'].duplicated().sum())\n",
    "print(data_labels['id'].duplicated().sum())\n",
    "\n",
    "# Display first few rows of each DataFrame\n",
    "print(data_values.head())\n",
    "print(data_labels.head())"
   ]
  },
  {
   "cell_type": "markdown",
   "metadata": {},
   "source": [
    "In the above we checked for duplicates to prevent us from any issues that might prevent us from moving on with the merging."
   ]
  },
  {
   "cell_type": "code",
   "execution_count": 12,
   "metadata": {},
   "outputs": [
    {
     "data": {
      "text/html": [
       "<div>\n",
       "<style scoped>\n",
       "    .dataframe tbody tr th:only-of-type {\n",
       "        vertical-align: middle;\n",
       "    }\n",
       "\n",
       "    .dataframe tbody tr th {\n",
       "        vertical-align: top;\n",
       "    }\n",
       "\n",
       "    .dataframe thead th {\n",
       "        text-align: right;\n",
       "    }\n",
       "</style>\n",
       "<table border=\"1\" class=\"dataframe\">\n",
       "  <thead>\n",
       "    <tr style=\"text-align: right;\">\n",
       "      <th></th>\n",
       "      <th>id</th>\n",
       "      <th>amount_tsh</th>\n",
       "      <th>date_recorded</th>\n",
       "      <th>funder</th>\n",
       "      <th>gps_height</th>\n",
       "      <th>installer</th>\n",
       "      <th>longitude</th>\n",
       "      <th>latitude</th>\n",
       "      <th>wpt_name</th>\n",
       "      <th>num_private</th>\n",
       "      <th>...</th>\n",
       "      <th>water_quality</th>\n",
       "      <th>quality_group</th>\n",
       "      <th>quantity</th>\n",
       "      <th>quantity_group</th>\n",
       "      <th>source</th>\n",
       "      <th>source_type</th>\n",
       "      <th>source_class</th>\n",
       "      <th>waterpoint_type</th>\n",
       "      <th>waterpoint_type_group</th>\n",
       "      <th>status_group</th>\n",
       "    </tr>\n",
       "  </thead>\n",
       "  <tbody>\n",
       "    <tr>\n",
       "      <th>0</th>\n",
       "      <td>69572</td>\n",
       "      <td>6000.0</td>\n",
       "      <td>2011-03-14</td>\n",
       "      <td>Roman</td>\n",
       "      <td>1390</td>\n",
       "      <td>Roman</td>\n",
       "      <td>34.938093</td>\n",
       "      <td>-9.856322</td>\n",
       "      <td>none</td>\n",
       "      <td>0</td>\n",
       "      <td>...</td>\n",
       "      <td>soft</td>\n",
       "      <td>good</td>\n",
       "      <td>enough</td>\n",
       "      <td>enough</td>\n",
       "      <td>spring</td>\n",
       "      <td>spring</td>\n",
       "      <td>groundwater</td>\n",
       "      <td>communal standpipe</td>\n",
       "      <td>communal standpipe</td>\n",
       "      <td>functional</td>\n",
       "    </tr>\n",
       "    <tr>\n",
       "      <th>1</th>\n",
       "      <td>8776</td>\n",
       "      <td>0.0</td>\n",
       "      <td>2013-03-06</td>\n",
       "      <td>Grumeti</td>\n",
       "      <td>1399</td>\n",
       "      <td>GRUMETI</td>\n",
       "      <td>34.698766</td>\n",
       "      <td>-2.147466</td>\n",
       "      <td>Zahanati</td>\n",
       "      <td>0</td>\n",
       "      <td>...</td>\n",
       "      <td>soft</td>\n",
       "      <td>good</td>\n",
       "      <td>insufficient</td>\n",
       "      <td>insufficient</td>\n",
       "      <td>rainwater harvesting</td>\n",
       "      <td>rainwater harvesting</td>\n",
       "      <td>surface</td>\n",
       "      <td>communal standpipe</td>\n",
       "      <td>communal standpipe</td>\n",
       "      <td>functional</td>\n",
       "    </tr>\n",
       "    <tr>\n",
       "      <th>2</th>\n",
       "      <td>34310</td>\n",
       "      <td>25.0</td>\n",
       "      <td>2013-02-25</td>\n",
       "      <td>Lottery Club</td>\n",
       "      <td>686</td>\n",
       "      <td>World vision</td>\n",
       "      <td>37.460664</td>\n",
       "      <td>-3.821329</td>\n",
       "      <td>Kwa Mahundi</td>\n",
       "      <td>0</td>\n",
       "      <td>...</td>\n",
       "      <td>soft</td>\n",
       "      <td>good</td>\n",
       "      <td>enough</td>\n",
       "      <td>enough</td>\n",
       "      <td>dam</td>\n",
       "      <td>dam</td>\n",
       "      <td>surface</td>\n",
       "      <td>communal standpipe multiple</td>\n",
       "      <td>communal standpipe</td>\n",
       "      <td>functional</td>\n",
       "    </tr>\n",
       "    <tr>\n",
       "      <th>3</th>\n",
       "      <td>67743</td>\n",
       "      <td>0.0</td>\n",
       "      <td>2013-01-28</td>\n",
       "      <td>Unicef</td>\n",
       "      <td>263</td>\n",
       "      <td>UNICEF</td>\n",
       "      <td>38.486161</td>\n",
       "      <td>-11.155298</td>\n",
       "      <td>Zahanati Ya Nanyumbu</td>\n",
       "      <td>0</td>\n",
       "      <td>...</td>\n",
       "      <td>soft</td>\n",
       "      <td>good</td>\n",
       "      <td>dry</td>\n",
       "      <td>dry</td>\n",
       "      <td>machine dbh</td>\n",
       "      <td>borehole</td>\n",
       "      <td>groundwater</td>\n",
       "      <td>communal standpipe multiple</td>\n",
       "      <td>communal standpipe</td>\n",
       "      <td>non functional</td>\n",
       "    </tr>\n",
       "    <tr>\n",
       "      <th>4</th>\n",
       "      <td>19728</td>\n",
       "      <td>0.0</td>\n",
       "      <td>2011-07-13</td>\n",
       "      <td>Action In A</td>\n",
       "      <td>0</td>\n",
       "      <td>Artisan</td>\n",
       "      <td>31.130847</td>\n",
       "      <td>-1.825359</td>\n",
       "      <td>Shuleni</td>\n",
       "      <td>0</td>\n",
       "      <td>...</td>\n",
       "      <td>soft</td>\n",
       "      <td>good</td>\n",
       "      <td>seasonal</td>\n",
       "      <td>seasonal</td>\n",
       "      <td>rainwater harvesting</td>\n",
       "      <td>rainwater harvesting</td>\n",
       "      <td>surface</td>\n",
       "      <td>communal standpipe</td>\n",
       "      <td>communal standpipe</td>\n",
       "      <td>functional</td>\n",
       "    </tr>\n",
       "  </tbody>\n",
       "</table>\n",
       "<p>5 rows × 41 columns</p>\n",
       "</div>"
      ],
      "text/plain": [
       "      id  amount_tsh date_recorded        funder  gps_height     installer  \\\n",
       "0  69572      6000.0    2011-03-14         Roman        1390         Roman   \n",
       "1   8776         0.0    2013-03-06       Grumeti        1399       GRUMETI   \n",
       "2  34310        25.0    2013-02-25  Lottery Club         686  World vision   \n",
       "3  67743         0.0    2013-01-28        Unicef         263        UNICEF   \n",
       "4  19728         0.0    2011-07-13   Action In A           0       Artisan   \n",
       "\n",
       "   longitude   latitude              wpt_name  num_private  ... water_quality  \\\n",
       "0  34.938093  -9.856322                  none            0  ...          soft   \n",
       "1  34.698766  -2.147466              Zahanati            0  ...          soft   \n",
       "2  37.460664  -3.821329           Kwa Mahundi            0  ...          soft   \n",
       "3  38.486161 -11.155298  Zahanati Ya Nanyumbu            0  ...          soft   \n",
       "4  31.130847  -1.825359               Shuleni            0  ...          soft   \n",
       "\n",
       "  quality_group      quantity  quantity_group                source  \\\n",
       "0          good        enough          enough                spring   \n",
       "1          good  insufficient    insufficient  rainwater harvesting   \n",
       "2          good        enough          enough                   dam   \n",
       "3          good           dry             dry           machine dbh   \n",
       "4          good      seasonal        seasonal  rainwater harvesting   \n",
       "\n",
       "            source_type source_class              waterpoint_type  \\\n",
       "0                spring  groundwater           communal standpipe   \n",
       "1  rainwater harvesting      surface           communal standpipe   \n",
       "2                   dam      surface  communal standpipe multiple   \n",
       "3              borehole  groundwater  communal standpipe multiple   \n",
       "4  rainwater harvesting      surface           communal standpipe   \n",
       "\n",
       "  waterpoint_type_group    status_group  \n",
       "0    communal standpipe      functional  \n",
       "1    communal standpipe      functional  \n",
       "2    communal standpipe      functional  \n",
       "3    communal standpipe  non functional  \n",
       "4    communal standpipe      functional  \n",
       "\n",
       "[5 rows x 41 columns]"
      ]
     },
     "execution_count": 12,
     "metadata": {},
     "output_type": "execute_result"
    }
   ],
   "source": [
    "# Create a combined DataFrame with both the value and label data joined on the 'id' column\n",
    "df = pd.merge(data_values, data_labels, on='id')\n",
    "df.head()"
   ]
  },
  {
   "cell_type": "markdown",
   "metadata": {},
   "source": [
    "We then proceed to merge."
   ]
  },
  {
   "cell_type": "code",
   "execution_count": 14,
   "metadata": {},
   "outputs": [],
   "source": [
    "import pandas as pd\n",
    "\n",
    "def data_shape(data):\n",
    "    \"\"\"Simple function to provide the shape of the data\"\"\"\n",
    "    print(f\"The DataFrame has:\\n\\t* {data.shape[0]} rows\\n\\t* {data.shape[1]} columns\")\n",
    "\n",
    "# Example usage:\n",
    "# Assuming you have a DataFrame named 'df'\n",
    "# data_shape(df)\n"
   ]
  },
  {
   "cell_type": "markdown",
   "metadata": {},
   "source": [
    "In the above the shape function basically provides the number of rows and columns in it, that is useful for a quick data understanding"
   ]
  },
  {
   "cell_type": "code",
   "execution_count": 15,
   "metadata": {},
   "outputs": [],
   "source": [
    "def data_info(data):\n",
    "    \"\"\"Simple function to provide the info of the data\"\"\"\n",
    "    print(data.info(), '\\n')\n",
    "    \n",
    "    "
   ]
  },
  {
   "cell_type": "markdown",
   "metadata": {},
   "source": [
    " Provides information about the DataFrame, including the index dtype, column dtypes, non-null values, and memory usage."
   ]
  },
  {
   "cell_type": "code",
   "execution_count": 16,
   "metadata": {},
   "outputs": [],
   "source": [
    "def print_column_types(data):\n",
    "    \"\"\"Print categorical and numerical columns in a dataset\"\"\"\n",
    "    # Identify categorical and numerical columns\n",
    "    categorical_cols = []\n",
    "    numerical_cols = []\n",
    "    \n",
    "    for column in data.columns:\n",
    "        if data[column].dtype == 'object':\n",
    "            categorical_cols.append(column)\n",
    "        else:\n",
    "            numerical_cols.append(column)\n",
    "    \n",
    "    # Print categorical columns\n",
    "    out = print(f\"Categorical Columns:\", categorical_cols,'\\n')\n",
    "     \n",
    "    # Print numerical columns\n",
    "    out = print(f\"Numerical Columns:\", numerical_cols,'\\n')\n",
    "    \n",
    "    return out "
   ]
  },
  {
   "cell_type": "code",
   "execution_count": 17,
   "metadata": {},
   "outputs": [],
   "source": [
    "import numpy as np  # Ensure NumPy is imported for rounding\n",
    "\n",
    "def identify_duplicates(data):\n",
    "    \"\"\"Identify and report the number of duplicate rows in the DataFrame.\"\"\"\n",
    "    # Count duplicated rows directly using pandas\n",
    "    num_duplicates = data.duplicated().sum()\n",
    "    \n",
    "    if num_duplicates == 0:\n",
    "        print(\"The Data has no duplicates.\\n\")\n",
    "    else:\n",
    "        # Calculate percentage of duplicated rows\n",
    "        duplicates_percentage = np.round((num_duplicates / len(data)) * 100, 3)\n",
    "        print(f\"The Data has {num_duplicates} duplicated rows.\")\n",
    "        print(f\"This constitutes {duplicates_percentage}% of the data set.\\n\")\n",
    "\n",
    "# Example usage:\n",
    "# Assuming you have a DataFrame named 'df'\n",
    "# identify_duplicates(df)"
   ]
  },
  {
   "cell_type": "markdown",
   "metadata": {},
   "source": [
    " creates a function to check for duplicates in a DataFrame, count them, and report the number of duplicate rows as well as their percentage of the total dataset. "
   ]
  },
  {
   "cell_type": "code",
   "execution_count": 20,
   "metadata": {},
   "outputs": [],
   "source": [
    "def data_describe(data):\n",
    "    \"\"\"Simple function to check the descriptive values of the data\"\"\"\n",
    "    print(data.describe(), '\\n')"
   ]
  },
  {
   "cell_type": "markdown",
   "metadata": {},
   "source": [
    "checks and displays descriptive statistics of a DataFrame, we can use the pandas describe() method. This method provides various descriptive statistics for numerical columns, such as count, mean, standard deviation, minimum, maximum, and quartiles."
   ]
  },
  {
   "cell_type": "code",
   "execution_count": 21,
   "metadata": {},
   "outputs": [],
   "source": [
    "# helper function to check for unique values in a column\n",
    "def find_unique_values(data):\n",
    "        print(data.nunique(),'\\n')\n",
    "    "
   ]
  },
  {
   "cell_type": "markdown",
   "metadata": {},
   "source": [
    "Finds any unique values for each column"
   ]
  },
  {
   "cell_type": "code",
   "execution_count": 27,
   "metadata": {},
   "outputs": [],
   "source": [
    "def explore(data):\n",
    "    \"\"\"Group of functions to explore data \"\"\"\n",
    "    data_shape(data)\n",
    "    data_info(data)\n",
    "    print_column_types(data)\n",
    "    data_describe(data)"
   ]
  },
  {
   "cell_type": "markdown",
   "metadata": {},
   "source": [
    "It combines multiple helper functions into one, making it easier to perform all the essential data exploration tasks in a single call. "
   ]
  },
  {
   "cell_type": "code",
   "execution_count": 28,
   "metadata": {},
   "outputs": [
    {
     "name": "stdout",
     "output_type": "stream",
     "text": [
      "The DataFrame has:\n",
      "\t* 59400 rows\n",
      "\t* 41 columns\n",
      "<class 'pandas.core.frame.DataFrame'>\n",
      "RangeIndex: 59400 entries, 0 to 59399\n",
      "Data columns (total 41 columns):\n",
      " #   Column                 Non-Null Count  Dtype  \n",
      "---  ------                 --------------  -----  \n",
      " 0   id                     59400 non-null  int64  \n",
      " 1   amount_tsh             59400 non-null  float64\n",
      " 2   date_recorded          59400 non-null  object \n",
      " 3   funder                 55763 non-null  object \n",
      " 4   gps_height             59400 non-null  int64  \n",
      " 5   installer              55745 non-null  object \n",
      " 6   longitude              59400 non-null  float64\n",
      " 7   latitude               59400 non-null  float64\n",
      " 8   wpt_name               59398 non-null  object \n",
      " 9   num_private            59400 non-null  int64  \n",
      " 10  basin                  59400 non-null  object \n",
      " 11  subvillage             59029 non-null  object \n",
      " 12  region                 59400 non-null  object \n",
      " 13  region_code            59400 non-null  int64  \n",
      " 14  district_code          59400 non-null  int64  \n",
      " 15  lga                    59400 non-null  object \n",
      " 16  ward                   59400 non-null  object \n",
      " 17  population             59400 non-null  int64  \n",
      " 18  public_meeting         56066 non-null  object \n",
      " 19  recorded_by            59400 non-null  object \n",
      " 20  scheme_management      55522 non-null  object \n",
      " 21  scheme_name            30590 non-null  object \n",
      " 22  permit                 56344 non-null  object \n",
      " 23  construction_year      59400 non-null  int64  \n",
      " 24  extraction_type        59400 non-null  object \n",
      " 25  extraction_type_group  59400 non-null  object \n",
      " 26  extraction_type_class  59400 non-null  object \n",
      " 27  management             59400 non-null  object \n",
      " 28  management_group       59400 non-null  object \n",
      " 29  payment                59400 non-null  object \n",
      " 30  payment_type           59400 non-null  object \n",
      " 31  water_quality          59400 non-null  object \n",
      " 32  quality_group          59400 non-null  object \n",
      " 33  quantity               59400 non-null  object \n",
      " 34  quantity_group         59400 non-null  object \n",
      " 35  source                 59400 non-null  object \n",
      " 36  source_type            59400 non-null  object \n",
      " 37  source_class           59400 non-null  object \n",
      " 38  waterpoint_type        59400 non-null  object \n",
      " 39  waterpoint_type_group  59400 non-null  object \n",
      " 40  status_group           59400 non-null  object \n",
      "dtypes: float64(3), int64(7), object(31)\n",
      "memory usage: 18.6+ MB\n",
      "None \n",
      "\n",
      "Categorical Columns: ['date_recorded', 'funder', 'installer', 'wpt_name', 'basin', 'subvillage', 'region', 'lga', 'ward', 'public_meeting', 'recorded_by', 'scheme_management', 'scheme_name', 'permit', 'extraction_type', 'extraction_type_group', 'extraction_type_class', 'management', 'management_group', 'payment', 'payment_type', 'water_quality', 'quality_group', 'quantity', 'quantity_group', 'source', 'source_type', 'source_class', 'waterpoint_type', 'waterpoint_type_group', 'status_group'] \n",
      "\n",
      "Numerical Columns: ['id', 'amount_tsh', 'gps_height', 'longitude', 'latitude', 'num_private', 'region_code', 'district_code', 'population', 'construction_year'] \n",
      "\n",
      "                 id     amount_tsh    gps_height     longitude      latitude  \\\n",
      "count  59400.000000   59400.000000  59400.000000  59400.000000  5.940000e+04   \n",
      "mean   37115.131768     317.650385    668.297239     34.077427 -5.706033e+00   \n",
      "std    21453.128371    2997.574558    693.116350      6.567432  2.946019e+00   \n",
      "min        0.000000       0.000000    -90.000000      0.000000 -1.164944e+01   \n",
      "25%    18519.750000       0.000000      0.000000     33.090347 -8.540621e+00   \n",
      "50%    37061.500000       0.000000    369.000000     34.908743 -5.021597e+00   \n",
      "75%    55656.500000      20.000000   1319.250000     37.178387 -3.326156e+00   \n",
      "max    74247.000000  350000.000000   2770.000000     40.345193 -2.000000e-08   \n",
      "\n",
      "        num_private   region_code  district_code    population  \\\n",
      "count  59400.000000  59400.000000   59400.000000  59400.000000   \n",
      "mean       0.474141     15.297003       5.629747    179.909983   \n",
      "std       12.236230     17.587406       9.633649    471.482176   \n",
      "min        0.000000      1.000000       0.000000      0.000000   \n",
      "25%        0.000000      5.000000       2.000000      0.000000   \n",
      "50%        0.000000     12.000000       3.000000     25.000000   \n",
      "75%        0.000000     17.000000       5.000000    215.000000   \n",
      "max     1776.000000     99.000000      80.000000  30500.000000   \n",
      "\n",
      "       construction_year  \n",
      "count       59400.000000  \n",
      "mean         1300.652475  \n",
      "std           951.620547  \n",
      "min             0.000000  \n",
      "25%             0.000000  \n",
      "50%          1986.000000  \n",
      "75%          2004.000000  \n",
      "max          2013.000000   \n",
      "\n"
     ]
    }
   ],
   "source": [
    "explore(df)"
   ]
  },
  {
   "cell_type": "code",
   "execution_count": 29,
   "metadata": {},
   "outputs": [
    {
     "data": {
      "text/plain": [
       "status_group\n",
       "functional                 32259\n",
       "non functional             22824\n",
       "functional needs repair     4317\n",
       "Name: count, dtype: int64"
      ]
     },
     "execution_count": 29,
     "metadata": {},
     "output_type": "execute_result"
    }
   ],
   "source": [
    "df['status_group'].value_counts()"
   ]
  },
  {
   "cell_type": "markdown",
   "metadata": {},
   "source": [
    "calculate and display the count of unique values in the 'status_group' column of a DataFrame named df."
   ]
  },
  {
   "cell_type": "code",
   "execution_count": 31,
   "metadata": {},
   "outputs": [],
   "source": [
    "df['status_group'].replace({'functional needs repair': 'non functional'}, inplace=True)"
   ]
  },
  {
   "cell_type": "markdown",
   "metadata": {},
   "source": [
    "Replaces or unique vaues called functional needs repair to the non functional group"
   ]
  },
  {
   "cell_type": "code",
   "execution_count": 32,
   "metadata": {},
   "outputs": [
    {
     "data": {
      "text/plain": [
       "status_group\n",
       "functional        32259\n",
       "non functional    27141\n",
       "Name: count, dtype: int64"
      ]
     },
     "execution_count": 32,
     "metadata": {},
     "output_type": "execute_result"
    }
   ],
   "source": [
    "df['status_group'].value_counts()"
   ]
  },
  {
   "cell_type": "markdown",
   "metadata": {},
   "source": [
    "Rechecks that the replacement was done successfully"
   ]
  },
  {
   "cell_type": "markdown",
   "metadata": {},
   "source": [
    "### 3. Data Preparation"
   ]
  },
  {
   "cell_type": "markdown",
   "metadata": {},
   "source": [
    "Data preparation is a crucial step in data analysis and machine learning that involves cleaning and transforming raw data into a format suitable for analysis or modeling. The main goals of data preparation are to handle missing values, encode categorical variables, normalize or standardize numerical features, and ensure data consistency."
   ]
  },
  {
   "cell_type": "markdown",
   "metadata": {},
   "source": [
    "A number of the features overlap, including waterpoint_type and waterpoint_type_group as well as extraction_type, extraction_type_group, and extraction_type_class (a description of all features can be found [here](https://www.drivendata.org/competitions/7/pump-it-up-data-mining-the-water-table/)). Due to the same information being represented at several levels, these would cause multicollinearity concerns, hence in order to decrease the dimensionality of the data, the most generic columns for each overlapped column were retained. \n",
    "\n",
    "Also, several features, such 'num_private' lacked feature descriptions that explained what they were, so I decided not to use them."
   ]
  },
  {
   "cell_type": "markdown",
   "metadata": {},
   "source": [
    "\"**extraction_type**\" , \"**extraction_type_group**\" and  \"**extraction_type_class**\" columns"
   ]
  },
  {
   "cell_type": "code",
   "execution_count": 34,
   "metadata": {},
   "outputs": [
    {
     "data": {
      "text/plain": [
       "extraction_type_class  extraction_type_group  extraction_type          \n",
       "gravity                gravity                gravity                      26780\n",
       "handpump               afridev                afridev                       1770\n",
       "                       india mark ii          india mark ii                 2400\n",
       "                       india mark iii         india mark iii                  98\n",
       "                       nira/tanira            nira/tanira                   8154\n",
       "                       other handpump         other - mkulima/shinyanga        2\n",
       "                                              other - play pump               85\n",
       "                                              other - swn 81                 229\n",
       "                                              walimi                          48\n",
       "                       swn 80                 swn 80                        3670\n",
       "motorpump              mono                   mono                          2865\n",
       "                       other motorpump        cemo                            90\n",
       "                                              climax                          32\n",
       "other                  other                  other                         6430\n",
       "rope pump              rope pump              other - rope pump              451\n",
       "submersible            submersible            ksb                           1415\n",
       "                                              submersible                   4764\n",
       "wind-powered           wind-powered           windmill                       117\n",
       "dtype: int64"
      ]
     },
     "execution_count": 34,
     "metadata": {},
     "output_type": "execute_result"
    }
   ],
   "source": [
    "# Group the data by the extraction_type, extraction_type_group, and extraction_type_class\n",
    "df.groupby(['extraction_type_class', 'extraction_type_group', 'extraction_type']).size()"
   ]
  },
  {
   "cell_type": "markdown",
   "metadata": {},
   "source": [
    "extraction_type_class is picked as we want to determine a high-level view and is useful for initial insights and when you need a broad categorization."
   ]
  },
  {
   "cell_type": "markdown",
   "metadata": {},
   "source": [
    "'**water_quality**' and '**quality_group columns**'\n"
   ]
  },
  {
   "cell_type": "code",
   "execution_count": 38,
   "metadata": {},
   "outputs": [
    {
     "data": {
      "text/plain": [
       "water_quality       quality_group\n",
       "coloured            colored            490\n",
       "fluoride            fluoride           200\n",
       "fluoride abandoned  fluoride            17\n",
       "milky               milky              804\n",
       "salty               salty             4856\n",
       "salty abandoned     salty              339\n",
       "soft                good             50818\n",
       "unknown             unknown           1876\n",
       "dtype: int64"
      ]
     },
     "execution_count": 38,
     "metadata": {},
     "output_type": "execute_result"
    }
   ],
   "source": [
    "df.groupby(['water_quality', 'quality_group']).size()"
   ]
  },
  {
   "cell_type": "markdown",
   "metadata": {},
   "source": [
    "'**source**' , '**source_type**' and '**source_class**' columns"
   ]
  },
  {
   "cell_type": "code",
   "execution_count": 39,
   "metadata": {},
   "outputs": [
    {
     "data": {
      "text/plain": [
       "source_class  source_type           source              \n",
       "groundwater   borehole              hand dtw                  874\n",
       "                                    machine dbh             11075\n",
       "              shallow well          shallow well            16824\n",
       "              spring                spring                  17021\n",
       "surface       dam                   dam                       656\n",
       "              rainwater harvesting  rainwater harvesting     2295\n",
       "              river/lake            lake                      765\n",
       "                                    river                    9612\n",
       "unknown       other                 other                     212\n",
       "                                    unknown                    66\n",
       "dtype: int64"
      ]
     },
     "execution_count": 39,
     "metadata": {},
     "output_type": "execute_result"
    }
   ],
   "source": [
    "df.groupby(['source_class', 'source_type', 'source']).size()"
   ]
  },
  {
   "cell_type": "markdown",
   "metadata": {},
   "source": [
    "We picked source, I love the detail, its impressive."
   ]
  },
  {
   "cell_type": "markdown",
   "metadata": {},
   "source": [
    "**payment** and **payment_type** columns"
   ]
  },
  {
   "cell_type": "code",
   "execution_count": 42,
   "metadata": {},
   "outputs": [
    {
     "data": {
      "text/plain": [
       "payment                payment_type\n",
       "never pay              never pay       25348\n",
       "other                  other            1054\n",
       "pay annually           annually         3642\n",
       "pay monthly            monthly          8300\n",
       "pay per bucket         per bucket       8985\n",
       "pay when scheme fails  on failure       3914\n",
       "unknown                unknown          8157\n",
       "dtype: int64"
      ]
     },
     "execution_count": 42,
     "metadata": {},
     "output_type": "execute_result"
    }
   ],
   "source": [
    "df.groupby(['payment', 'payment_type']).size()"
   ]
  },
  {
   "cell_type": "markdown",
   "metadata": {},
   "source": [
    "Same info, I picked payment_type"
   ]
  },
  {
   "cell_type": "markdown",
   "metadata": {},
   "source": [
    "**waterpoint_type** and **waterpoint_type_group**"
   ]
  },
  {
   "cell_type": "code",
   "execution_count": 43,
   "metadata": {},
   "outputs": [
    {
     "data": {
      "text/plain": [
       "waterpoint_type              waterpoint_type_group\n",
       "cattle trough                cattle trough              116\n",
       "communal standpipe           communal standpipe       28522\n",
       "communal standpipe multiple  communal standpipe        6103\n",
       "dam                          dam                          7\n",
       "hand pump                    hand pump                17488\n",
       "improved spring              improved spring            784\n",
       "other                        other                     6380\n",
       "dtype: int64"
      ]
     },
     "execution_count": 43,
     "metadata": {},
     "output_type": "execute_result"
    }
   ],
   "source": [
    "df.groupby(['waterpoint_type', 'waterpoint_type_group']).size()"
   ]
  },
  {
   "cell_type": "markdown",
   "metadata": {},
   "source": [
    "I decided to keep 'waterpoint_type' which contains more detail."
   ]
  },
  {
   "cell_type": "markdown",
   "metadata": {},
   "source": [
    "scheme_management** , **management** and **management_group** columns"
   ]
  },
  {
   "cell_type": "code",
   "execution_count": 45,
   "metadata": {},
   "outputs": [
    {
     "data": {
      "text/plain": [
       "scheme_management\n",
       "VWC                 36793\n",
       "WUG                  5206\n",
       "NaN                  3878\n",
       "Water authority      3153\n",
       "WUA                  2883\n",
       "Water Board          2748\n",
       "Parastatal           1680\n",
       "Private operator     1063\n",
       "Company              1061\n",
       "Other                 766\n",
       "SWC                    97\n",
       "Trust                  72\n",
       "Name: count, dtype: int64"
      ]
     },
     "execution_count": 45,
     "metadata": {},
     "output_type": "execute_result"
    }
   ],
   "source": [
    "df['scheme_management'].value_counts(dropna=False)"
   ]
  },
  {
   "cell_type": "code",
   "execution_count": 46,
   "metadata": {},
   "outputs": [
    {
     "data": {
      "text/plain": [
       "management_group  management      \n",
       "commercial        company               685\n",
       "                  private operator     1971\n",
       "                  trust                  78\n",
       "                  water authority       904\n",
       "other             other                 844\n",
       "                  other - school         99\n",
       "parastatal        parastatal           1768\n",
       "unknown           unknown               561\n",
       "user-group        vwc                 40507\n",
       "                  water board          2933\n",
       "                  wua                  2535\n",
       "                  wug                  6515\n",
       "dtype: int64"
      ]
     },
     "execution_count": 46,
     "metadata": {},
     "output_type": "execute_result"
    }
   ],
   "source": [
    "df.groupby(['management_group', 'management']).size()"
   ]
  },
  {
   "cell_type": "code",
   "execution_count": 47,
   "metadata": {},
   "outputs": [
    {
     "data": {
      "text/plain": [
       "quantity      quantity_group\n",
       "dry           dry                6246\n",
       "enough        enough            33186\n",
       "insufficient  insufficient      15129\n",
       "seasonal      seasonal           4050\n",
       "unknown       unknown             789\n",
       "dtype: int64"
      ]
     },
     "execution_count": 47,
     "metadata": {},
     "output_type": "execute_result"
    }
   ],
   "source": [
    "df.groupby(['quantity', 'quantity_group']).size()"
   ]
  },
  {
   "cell_type": "markdown",
   "metadata": {},
   "source": [
    "Same output to drop out guantity group"
   ]
  },
  {
   "cell_type": "markdown",
   "metadata": {},
   "source": [
    "Drop columns"
   ]
  },
  {
   "cell_type": "code",
   "execution_count": 48,
   "metadata": {},
   "outputs": [],
   "source": [
    "col_to_drop = ['id', 'recorded_by', 'public_meeting', 'installer','ward', 'longitude', 'latitude', 'region_code', 'district_code', \n",
    "                 'wpt_name','scheme_name', 'extraction_type', 'extraction_type_group',\n",
    "                 'payment', 'quality_group', 'source', 'source_class', 'quantity_group', \n",
    "                 'scheme_management', 'management', 'waterpoint_type_group',\n",
    "                   'subvillage', 'num_private']"
   ]
  },
  {
   "cell_type": "code",
   "execution_count": 49,
   "metadata": {},
   "outputs": [
    {
     "data": {
      "text/plain": [
       "(59400, 18)"
      ]
     },
     "execution_count": 49,
     "metadata": {},
     "output_type": "execute_result"
    }
   ],
   "source": [
    "dfn = df.drop(col_to_drop, axis = 1)\n",
    "dfn.shape"
   ]
  },
  {
   "cell_type": "code",
   "execution_count": 50,
   "metadata": {},
   "outputs": [
    {
     "name": "stdout",
     "output_type": "stream",
     "text": [
      "Categorical Columns: ['date_recorded', 'funder', 'basin', 'region', 'lga', 'permit', 'extraction_type_class', 'management_group', 'payment_type', 'water_quality', 'quantity', 'source_type', 'waterpoint_type', 'status_group'] \n",
      "\n",
      "Numerical Columns: ['amount_tsh', 'gps_height', 'population', 'construction_year'] \n",
      "\n"
     ]
    }
   ],
   "source": [
    "print_column_types(dfn)"
   ]
  },
  {
   "cell_type": "markdown",
   "metadata": {},
   "source": [
    "14:Categorial\n",
    "\n",
    "4:Numerical"
   ]
  },
  {
   "cell_type": "markdown",
   "metadata": {},
   "source": [
    "#### Data Cleaning"
   ]
  },
  {
   "cell_type": "markdown",
   "metadata": {},
   "source": [
    "In this section we will check for:\n",
    "- Missing Values\n",
    "- Duplicates\n",
    "- Outliers"
   ]
  },
  {
   "cell_type": "code",
   "execution_count": 56,
   "metadata": {},
   "outputs": [],
   "source": [
    "# helper function to check for missing values\n",
    "\n",
    "def data_missing(data):\n",
    "    \"\"\"Identify if the data has missing values\"\"\"\n",
    "    # identify columns with missing values\n",
    "    missing_cols = data.columns[data.isnull().any()]\n",
    "    # calculate number of missing values in each column\n",
    "    missing_sum = data[missing_cols].isnull().sum()\n",
    "    # calculate percentage of missing values in each column\n",
    "    missing_pct = data[missing_cols].isnull().sum() / data.shape[0] * 100\n",
    "\n",
    "    # check if there are missing values\n",
    "    if len(missing_cols) == 0:\n",
    "        out = print(\"The data has no missing values.\")\n",
    "    else:\n",
    "        out = print(f\"The data has missing values in the following columns:\\n{missing_cols}\\n\\nThe total number of missing values in each column:\\n{missing_sum}\\n \\n{missing_pct}\\n\")\n",
    "    return out"
   ]
  },
  {
   "cell_type": "code",
   "execution_count": 57,
   "metadata": {},
   "outputs": [
    {
     "name": "stdout",
     "output_type": "stream",
     "text": [
      "The data has missing values in the following columns:\n",
      "Index(['funder', 'permit'], dtype='object')\n",
      "\n",
      "The total number of missing values in each column:\n",
      "funder    3637\n",
      "permit    3056\n",
      "dtype: int64\n",
      " \n",
      "funder    6.122896\n",
      "permit    5.144781\n",
      "dtype: float64\n",
      "\n"
     ]
    }
   ],
   "source": [
    "data_missing(dfn)"
   ]
  },
  {
   "cell_type": "markdown",
   "metadata": {},
   "source": [
    "There are missing values in 'permit' column. I intend to drop them since they only account to a very small percentage of 5% of the entire column."
   ]
  },
  {
   "cell_type": "code",
   "execution_count": 58,
   "metadata": {},
   "outputs": [],
   "source": [
    "# Drop the missing values\n",
    "dfn.dropna(axis=0, subset=['permit'], inplace=True)"
   ]
  },
  {
   "cell_type": "markdown",
   "metadata": {},
   "source": [
    "##### Duplicated data"
   ]
  },
  {
   "cell_type": "markdown",
   "metadata": {},
   "source": [
    "Duplicated data refers to instances where the same data entry appears more than once in a dataset. This duplication can occur due to various reasons, such as data collection errors, merging of datasets, or system issues. It is important to understand that duplicated data is not necessarily incorrect or invalid, as it can occur naturally in certain scenarios.\n",
    "\n",
    "However, when working with duplicated data, it is crucial to be cautious of its potential impact on the analysis or modeling process. Duplicated data can introduce bias and affect the accuracy of statistical analyses or machine learning models. In particular, it can lead to overfitting, where the model becomes too specialized to the duplicated data and performs poorly on new, unseen data."
   ]
  },
  {
   "cell_type": "code",
   "execution_count": 59,
   "metadata": {},
   "outputs": [],
   "source": [
    "# helper function to check for duplicates\n",
    "\n",
    "def identify_duplicates(data):\n",
    "    \"\"\"Simple function to identify any duplicates\"\"\"\n",
    "    # identify the duplicates (dataframename.duplicated() , can add .sum() to get total count)\n",
    "    # empty list to store Bool results from duplicated\n",
    "    duplicates = []\n",
    "    for i in data.duplicated():\n",
    "        duplicates.append(i)\n",
    "    # identify if there is any duplicates. (If there is any we expect a True value in the list duplicates)\n",
    "    duplicates_set = set(duplicates) \n",
    "    if (len(duplicates_set) == 1):\n",
    "        out = print(\"The Data has no duplicates\", '\\n')\n",
    "    else:\n",
    "        no_true = 0\n",
    "        for val in duplicates:\n",
    "            if (val == True):\n",
    "                no_true += 1\n",
    "        # percentage of the data represented by duplicates \n",
    "        duplicates_percentage = np.round(((no_true / len(data)) * 100), 3)\n",
    "        out = print(f\"The Data has {no_true} duplicated rows.\\nThis constitutes {duplicates_percentage}% of the data set.\", '\\n')"
   ]
  },
  {
   "cell_type": "code",
   "execution_count": 60,
   "metadata": {},
   "outputs": [
    {
     "name": "stdout",
     "output_type": "stream",
     "text": [
      "The Data has 9102 duplicated rows.\n",
      "This constitutes 16.154% of the data set. \n",
      "\n"
     ]
    }
   ],
   "source": [
    "identify_duplicates(dfn)"
   ]
  },
  {
   "cell_type": "markdown",
   "metadata": {},
   "source": [
    "The dataset has duplicates but we will retain them."
   ]
  },
  {
   "cell_type": "markdown",
   "metadata": {},
   "source": [
    "##### Outliers\n",
    "Outliers are data points that significantly deviate from the majority of the other data points in a dataset.\n",
    "\n",
    "There can be several causes for the presence of outliers:\n",
    "\n",
    "- Natural variation\n",
    "- Data entry errors\n",
    "- Anomalous observations\n",
    "- Sampling issues\n",
    "- Data processing errors"
   ]
  },
  {
   "cell_type": "code",
   "execution_count": 62,
   "metadata": {},
   "outputs": [],
   "source": [
    "def evaluate_outliers(data, sample_size=1000):\n",
    "    \"\"\"Function to evaluate outliers in numeric columns and plot their distributions\"\"\"\n",
    "    \n",
    "    # Select numeric columns\n",
    "    numeric_columns = data.select_dtypes(include='number').columns\n",
    "    \n",
    "    # Randomly sample the data\n",
    "    data_sample = data.sample(n=sample_size, random_state=42)\n",
    "    \n",
    "    # Iterate over numeric columns\n",
    "    for column in numeric_columns:\n",
    "        # Plot boxplot for the column\n",
    "        plt.figure(figsize=(10, 2))\n",
    "        plt.boxplot(data_sample[column], notch=True, sym='r.')\n",
    "        plt.xlabel(column)\n",
    "        plt.ylabel('Value')\n",
    "        plt.title(f'Boxplot of {column}')\n",
    "        plt.show()"
   ]
  },
  {
   "cell_type": "code",
   "execution_count": 63,
   "metadata": {},
   "outputs": [
    {
     "data": {
      "image/png": "[encoded data removed]",
      "text/plain": [
       "<Figure size 1000x200 with 1 Axes>"
      ]
     },
     "metadata": {},
     "output_type": "display_data"
    },
    {
     "data": {
      "image/png": "[encoded data removed]",
      "text/plain": [
       "<Figure size 1000x200 with 1 Axes>"
      ]
     },
     "metadata": {},
     "output_type": "display_data"
    },
    {
     "data": {
      "image/png": "[encoded data removed]",
      "text/plain": [
       "<Figure size 1000x200 with 1 Axes>"
      ]
     },
     "metadata": {},
     "output_type": "display_data"
    },
    {
     "data": {
      "image/png": "[encoded data removed]",
      "text/plain": [
       "<Figure size 1000x200 with 1 Axes>"
      ]
     },
     "metadata": {},
     "output_type": "display_data"
    }
   ],
   "source": [
    "evaluate_outliers(dfn)"
   ]
  },
  {
   "cell_type": "markdown",
   "metadata": {},
   "source": [
    "Three numeric colmns have outliers but  will work with them."
   ]
  },
  {
   "cell_type": "code",
   "execution_count": 66,
   "metadata": {},
   "outputs": [
    {
     "data": {
      "text/plain": [
       "Index(['amount_tsh', 'date_recorded', 'funder', 'gps_height', 'basin',\n",
       "       'region', 'lga', 'population', 'permit', 'construction_year',\n",
       "       'extraction_type_class', 'management_group', 'payment_type',\n",
       "       'water_quality', 'quantity', 'source_type', 'waterpoint_type',\n",
       "       'status_group'],\n",
       "      dtype='object')"
      ]
     },
     "execution_count": 66,
     "metadata": {},
     "output_type": "execute_result"
    }
   ],
   "source": [
    "dfn.columns"
   ]
  },
  {
   "cell_type": "markdown",
   "metadata": {},
   "source": [
    "##### Data Formating and Labeling"
   ]
  },
  {
   "cell_type": "code",
   "execution_count": 68,
   "metadata": {},
   "outputs": [],
   "source": [
    "def rename_and_format_columns(df, column_mapping):\n",
    "    \"\"\"\n",
    "    This function renames and formats the columns of a DataFrame based on the provided mapping.\n",
    "    The mapping should be a dictionary where the keys are the current column names and the values are the desired new names.\n",
    "    \"\"\"\n",
    "    for old_col, new_col in column_mapping.items():\n",
    "        new_col = new_col.strip().replace(' ', '_').lower()\n",
    "        df.rename(columns={old_col: new_col}, inplace=True)\n",
    "\n",
    "# Example usage:\n",
    "column_mapping = {\n",
    "    'lga': 'local_government_area',\n",
    "    'Column Name 1': 'new_column_1',\n",
    "    'Column Name 2': 'new_column_2',\n",
    "}\n",
    "\n",
    "rename_and_format_columns(dfn, column_mapping)"
   ]
  },
  {
   "cell_type": "markdown",
   "metadata": {},
   "source": [
    "the above function is designed to rename and format the columns "
   ]
  }
 ],
 "metadata": {
  "kernelspec": {
   "display_name": "Python 3",
   "language": "python",
   "name": "python3"
  },
  "language_info": {
   "codemirror_mode": {
    "name": "ipython",
    "version": 3
   },
   "file_extension": ".py",
   "mimetype": "text/x-python",
   "name": "python",
   "nbconvert_exporter": "python",
   "pygments_lexer": "ipython3",
   "version": "3.12.4"
  }
 },
 "nbformat": 4,
 "nbformat_minor": 2
}
