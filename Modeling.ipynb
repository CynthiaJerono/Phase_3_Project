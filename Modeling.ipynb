{
 "cells": [
  {
   "attachments": {},
   "cell_type": "markdown",
   "metadata": {},
   "source": [
    "# Modeling"
   ]
  },
  {
   "cell_type": "code",
   "execution_count": 174,
   "metadata": {},
   "outputs": [],
   "source": [
    "# importing necessary libraries\n",
    "import pandas as pd\n",
    "import matplotlib.pyplot as plt\n",
    "import seaborn as sns; sns.set()\n",
    "%matplotlib inline\n",
    "\n",
    "import pandas as pd\n",
    "import numpy as np\n",
    "\n",
    "from sklearn.tree import DecisionTreeClassifier\n",
    "from sklearn.ensemble import RandomForestClassifier, AdaBoostClassifier\n",
    "from sklearn.dummy import DummyClassifier\n",
    "from sklearn.svm import SVC\n",
    "from sklearn.neighbors import KNeighborsClassifier\n",
    "from sklearn.preprocessing import StandardScaler\n",
    "from sklearn.model_selection import cross_val_score\n",
    "from sklearn.model_selection import cross_validate\n",
    "from sklearn.preprocessing import LabelEncoder\n",
    "from sklearn.pipeline import Pipeline\n",
    "\n",
    "from sklearn.model_selection import GridSearchCV, train_test_split\n",
    "from sklearn.metrics import roc_auc_score\n",
    "from sklearn.metrics import accuracy_score, precision_score, recall_score, f1_score\n",
    "\n",
    "from sklearn.metrics import confusion_matrix, classification_report\n",
    "from sklearn.model_selection import train_test_split, GridSearchCV\n",
    "\n",
    "import warnings\n",
    "warnings.filterwarnings(\"ignore\")"
   ]
  },
  {
   "cell_type": "code",
   "execution_count": 175,
   "metadata": {},
   "outputs": [
    {
     "data": {
      "text/html": [
       "<div>\n",
       "<style scoped>\n",
       "    .dataframe tbody tr th:only-of-type {\n",
       "        vertical-align: middle;\n",
       "    }\n",
       "\n",
       "    .dataframe tbody tr th {\n",
       "        vertical-align: top;\n",
       "    }\n",
       "\n",
       "    .dataframe thead th {\n",
       "        text-align: right;\n",
       "    }\n",
       "</style>\n",
       "<table border=\"1\" class=\"dataframe\">\n",
       "  <thead>\n",
       "    <tr style=\"text-align: right;\">\n",
       "      <th></th>\n",
       "      <th>amount_tsh</th>\n",
       "      <th>date_recorded</th>\n",
       "      <th>funder</th>\n",
       "      <th>gps_height</th>\n",
       "      <th>basin</th>\n",
       "      <th>region</th>\n",
       "      <th>local_government_area</th>\n",
       "      <th>population</th>\n",
       "      <th>permit</th>\n",
       "      <th>construction_year</th>\n",
       "      <th>extraction_type_class</th>\n",
       "      <th>management_group</th>\n",
       "      <th>payment_type</th>\n",
       "      <th>water_quality</th>\n",
       "      <th>quantity</th>\n",
       "      <th>source_type</th>\n",
       "      <th>waterpoint_type</th>\n",
       "      <th>status_group</th>\n",
       "      <th>construction_decade</th>\n",
       "    </tr>\n",
       "  </thead>\n",
       "  <tbody>\n",
       "    <tr>\n",
       "      <th>0</th>\n",
       "      <td>6000.0</td>\n",
       "      <td>2011-03-14</td>\n",
       "      <td>Roman</td>\n",
       "      <td>1390</td>\n",
       "      <td>Lake Nyasa</td>\n",
       "      <td>Iringa</td>\n",
       "      <td>Ludewa</td>\n",
       "      <td>109</td>\n",
       "      <td>False</td>\n",
       "      <td>1999</td>\n",
       "      <td>gravity</td>\n",
       "      <td>user-group</td>\n",
       "      <td>annually</td>\n",
       "      <td>soft</td>\n",
       "      <td>enough</td>\n",
       "      <td>spring</td>\n",
       "      <td>communal standpipe</td>\n",
       "      <td>functional</td>\n",
       "      <td>1990s (1990-1999)</td>\n",
       "    </tr>\n",
       "    <tr>\n",
       "      <th>1</th>\n",
       "      <td>0.0</td>\n",
       "      <td>2013-03-06</td>\n",
       "      <td>Grumeti</td>\n",
       "      <td>1399</td>\n",
       "      <td>Lake Victoria</td>\n",
       "      <td>Mara</td>\n",
       "      <td>Serengeti</td>\n",
       "      <td>280</td>\n",
       "      <td>True</td>\n",
       "      <td>2010</td>\n",
       "      <td>gravity</td>\n",
       "      <td>user-group</td>\n",
       "      <td>never pay</td>\n",
       "      <td>soft</td>\n",
       "      <td>insufficient</td>\n",
       "      <td>rainwater harvesting</td>\n",
       "      <td>communal standpipe</td>\n",
       "      <td>functional</td>\n",
       "      <td>2000s (2000-2009)</td>\n",
       "    </tr>\n",
       "    <tr>\n",
       "      <th>2</th>\n",
       "      <td>25.0</td>\n",
       "      <td>2013-02-25</td>\n",
       "      <td>Lottery Club</td>\n",
       "      <td>686</td>\n",
       "      <td>Pangani</td>\n",
       "      <td>Manyara</td>\n",
       "      <td>Simanjiro</td>\n",
       "      <td>250</td>\n",
       "      <td>True</td>\n",
       "      <td>2009</td>\n",
       "      <td>gravity</td>\n",
       "      <td>user-group</td>\n",
       "      <td>per bucket</td>\n",
       "      <td>soft</td>\n",
       "      <td>enough</td>\n",
       "      <td>dam</td>\n",
       "      <td>communal standpipe multiple</td>\n",
       "      <td>functional</td>\n",
       "      <td>2000s (2000-2009)</td>\n",
       "    </tr>\n",
       "    <tr>\n",
       "      <th>3</th>\n",
       "      <td>0.0</td>\n",
       "      <td>2013-01-28</td>\n",
       "      <td>Unicef</td>\n",
       "      <td>263</td>\n",
       "      <td>Ruvuma / Southern Coast</td>\n",
       "      <td>Mtwara</td>\n",
       "      <td>Nanyumbu</td>\n",
       "      <td>58</td>\n",
       "      <td>True</td>\n",
       "      <td>1986</td>\n",
       "      <td>submersible</td>\n",
       "      <td>user-group</td>\n",
       "      <td>never pay</td>\n",
       "      <td>soft</td>\n",
       "      <td>dry</td>\n",
       "      <td>borehole</td>\n",
       "      <td>communal standpipe multiple</td>\n",
       "      <td>non functional</td>\n",
       "      <td>1980s (1980-1989)</td>\n",
       "    </tr>\n",
       "    <tr>\n",
       "      <th>4</th>\n",
       "      <td>0.0</td>\n",
       "      <td>2011-07-13</td>\n",
       "      <td>Action In A</td>\n",
       "      <td>0</td>\n",
       "      <td>Lake Victoria</td>\n",
       "      <td>Kagera</td>\n",
       "      <td>Karagwe</td>\n",
       "      <td>0</td>\n",
       "      <td>True</td>\n",
       "      <td>0</td>\n",
       "      <td>gravity</td>\n",
       "      <td>other</td>\n",
       "      <td>never pay</td>\n",
       "      <td>soft</td>\n",
       "      <td>seasonal</td>\n",
       "      <td>rainwater harvesting</td>\n",
       "      <td>communal standpipe</td>\n",
       "      <td>functional</td>\n",
       "      <td>Unknown</td>\n",
       "    </tr>\n",
       "  </tbody>\n",
       "</table>\n",
       "</div>"
      ],
      "text/plain": [
       "   amount_tsh date_recorded        funder  gps_height  \\\n",
       "0      6000.0    2011-03-14         Roman        1390   \n",
       "1         0.0    2013-03-06       Grumeti        1399   \n",
       "2        25.0    2013-02-25  Lottery Club         686   \n",
       "3         0.0    2013-01-28        Unicef         263   \n",
       "4         0.0    2011-07-13   Action In A           0   \n",
       "\n",
       "                     basin   region local_government_area  population  permit  \\\n",
       "0               Lake Nyasa   Iringa                Ludewa         109   False   \n",
       "1            Lake Victoria     Mara             Serengeti         280    True   \n",
       "2                  Pangani  Manyara             Simanjiro         250    True   \n",
       "3  Ruvuma / Southern Coast   Mtwara              Nanyumbu          58    True   \n",
       "4            Lake Victoria   Kagera               Karagwe           0    True   \n",
       "\n",
       "   construction_year extraction_type_class management_group payment_type  \\\n",
       "0               1999               gravity       user-group     annually   \n",
       "1               2010               gravity       user-group    never pay   \n",
       "2               2009               gravity       user-group   per bucket   \n",
       "3               1986           submersible       user-group    never pay   \n",
       "4                  0               gravity            other    never pay   \n",
       "\n",
       "  water_quality      quantity           source_type  \\\n",
       "0          soft        enough                spring   \n",
       "1          soft  insufficient  rainwater harvesting   \n",
       "2          soft        enough                   dam   \n",
       "3          soft           dry              borehole   \n",
       "4          soft      seasonal  rainwater harvesting   \n",
       "\n",
       "               waterpoint_type    status_group construction_decade  \n",
       "0           communal standpipe      functional   1990s (1990-1999)  \n",
       "1           communal standpipe      functional   2000s (2000-2009)  \n",
       "2  communal standpipe multiple      functional   2000s (2000-2009)  \n",
       "3  communal standpipe multiple  non functional   1980s (1980-1989)  \n",
       "4           communal standpipe      functional             Unknown  "
      ]
     },
     "execution_count": 175,
     "metadata": {},
     "output_type": "execute_result"
    }
   ],
   "source": [
    "df_model = pd.read_csv('./Data/clean_data.csv', index_col=0)\n",
    "df_model.head()"
   ]
  },
  {
   "cell_type": "code",
   "execution_count": 176,
   "metadata": {},
   "outputs": [],
   "source": [
    "categorical_cols = ['region', 'extraction_type_class', 'management_group', 'funder',\n",
    "                    'quantity', 'water_quality' , 'waterpoint_type', 'source_type', 'status_group' ]"
   ]
  },
  {
   "cell_type": "code",
   "execution_count": 177,
   "metadata": {},
   "outputs": [],
   "source": [
    "numerical_cols = ['amount_tsh','gps_height', 'population']"
   ]
  },
  {
   "cell_type": "code",
   "execution_count": 178,
   "metadata": {},
   "outputs": [],
   "source": [
    "df_model.drop(['date_recorded', 'construction_year', 'basin', 'local_government_area', \n",
    "                     'payment_type', 'permit', 'construction_decade'], axis=1, inplace=True)\n",
    "#to be dropped before one hot encoding"
   ]
  },
  {
   "cell_type": "code",
   "execution_count": 179,
   "metadata": {},
   "outputs": [],
   "source": [
    "# Create an instance of LabelEncoder\n",
    "encoder = LabelEncoder()\n",
    "\n",
    "# Encode the categorical columns in the DataFrame\n",
    "for col in categorical_cols:\n",
    "    df_model[col] = encoder.fit_transform(df_model[col])\n",
    "\n",
    "# covert categorical columns to integer\n",
    "for col in categorical_cols:\n",
    "    df_model[col] = df_model[col].astype(int)"
   ]
  },
  {
   "cell_type": "code",
   "execution_count": 180,
   "metadata": {},
   "outputs": [],
   "source": [
    "#from category_encoders import OneHotEncoder\n",
    "#ohe = OneHotEncoder(cols = categorical_cols)"
   ]
  },
  {
   "cell_type": "code",
   "execution_count": 181,
   "metadata": {},
   "outputs": [],
   "source": [
    "#df_model = ohe.fit_transform(df_model)"
   ]
  },
  {
   "cell_type": "code",
   "execution_count": 182,
   "metadata": {},
   "outputs": [
    {
     "data": {
      "text/html": [
       "<div>\n",
       "<style scoped>\n",
       "    .dataframe tbody tr th:only-of-type {\n",
       "        vertical-align: middle;\n",
       "    }\n",
       "\n",
       "    .dataframe tbody tr th {\n",
       "        vertical-align: top;\n",
       "    }\n",
       "\n",
       "    .dataframe thead th {\n",
       "        text-align: right;\n",
       "    }\n",
       "</style>\n",
       "<table border=\"1\" class=\"dataframe\">\n",
       "  <thead>\n",
       "    <tr style=\"text-align: right;\">\n",
       "      <th></th>\n",
       "      <th>amount_tsh</th>\n",
       "      <th>funder</th>\n",
       "      <th>gps_height</th>\n",
       "      <th>region</th>\n",
       "      <th>population</th>\n",
       "      <th>extraction_type_class</th>\n",
       "      <th>management_group</th>\n",
       "      <th>water_quality</th>\n",
       "      <th>quantity</th>\n",
       "      <th>source_type</th>\n",
       "      <th>waterpoint_type</th>\n",
       "      <th>status_group</th>\n",
       "    </tr>\n",
       "  </thead>\n",
       "  <tbody>\n",
       "    <tr>\n",
       "      <th>0</th>\n",
       "      <td>6000.0</td>\n",
       "      <td>1319</td>\n",
       "      <td>1390</td>\n",
       "      <td>3</td>\n",
       "      <td>109</td>\n",
       "      <td>0</td>\n",
       "      <td>4</td>\n",
       "      <td>6</td>\n",
       "      <td>1</td>\n",
       "      <td>6</td>\n",
       "      <td>1</td>\n",
       "      <td>0</td>\n",
       "    </tr>\n",
       "    <tr>\n",
       "      <th>1</th>\n",
       "      <td>0.0</td>\n",
       "      <td>457</td>\n",
       "      <td>1399</td>\n",
       "      <td>9</td>\n",
       "      <td>280</td>\n",
       "      <td>0</td>\n",
       "      <td>4</td>\n",
       "      <td>6</td>\n",
       "      <td>2</td>\n",
       "      <td>3</td>\n",
       "      <td>1</td>\n",
       "      <td>0</td>\n",
       "    </tr>\n",
       "    <tr>\n",
       "      <th>2</th>\n",
       "      <td>25.0</td>\n",
       "      <td>803</td>\n",
       "      <td>686</td>\n",
       "      <td>8</td>\n",
       "      <td>250</td>\n",
       "      <td>0</td>\n",
       "      <td>4</td>\n",
       "      <td>6</td>\n",
       "      <td>1</td>\n",
       "      <td>1</td>\n",
       "      <td>2</td>\n",
       "      <td>0</td>\n",
       "    </tr>\n",
       "    <tr>\n",
       "      <th>3</th>\n",
       "      <td>0.0</td>\n",
       "      <td>1681</td>\n",
       "      <td>263</td>\n",
       "      <td>12</td>\n",
       "      <td>58</td>\n",
       "      <td>5</td>\n",
       "      <td>4</td>\n",
       "      <td>6</td>\n",
       "      <td>0</td>\n",
       "      <td>0</td>\n",
       "      <td>2</td>\n",
       "      <td>1</td>\n",
       "    </tr>\n",
       "    <tr>\n",
       "      <th>4</th>\n",
       "      <td>0.0</td>\n",
       "      <td>18</td>\n",
       "      <td>0</td>\n",
       "      <td>4</td>\n",
       "      <td>0</td>\n",
       "      <td>0</td>\n",
       "      <td>1</td>\n",
       "      <td>6</td>\n",
       "      <td>3</td>\n",
       "      <td>3</td>\n",
       "      <td>1</td>\n",
       "      <td>0</td>\n",
       "    </tr>\n",
       "  </tbody>\n",
       "</table>\n",
       "</div>"
      ],
      "text/plain": [
       "   amount_tsh  funder  gps_height  region  population  extraction_type_class  \\\n",
       "0      6000.0    1319        1390       3         109                      0   \n",
       "1         0.0     457        1399       9         280                      0   \n",
       "2        25.0     803         686       8         250                      0   \n",
       "3         0.0    1681         263      12          58                      5   \n",
       "4         0.0      18           0       4           0                      0   \n",
       "\n",
       "   management_group  water_quality  quantity  source_type  waterpoint_type  \\\n",
       "0                 4              6         1            6                1   \n",
       "1                 4              6         2            3                1   \n",
       "2                 4              6         1            1                2   \n",
       "3                 4              6         0            0                2   \n",
       "4                 1              6         3            3                1   \n",
       "\n",
       "   status_group  \n",
       "0             0  \n",
       "1             0  \n",
       "2             0  \n",
       "3             1  \n",
       "4             0  "
      ]
     },
     "execution_count": 182,
     "metadata": {},
     "output_type": "execute_result"
    }
   ],
   "source": [
    "df_model.head()"
   ]
  },
  {
   "cell_type": "code",
   "execution_count": 183,
   "metadata": {},
   "outputs": [],
   "source": [
    "# split the dataset\n",
    "X = df_model.drop('status_group', axis=1)\n",
    "y = df_model['status_group']\n",
    "\n",
    "X_train, X_test, y_train, y_test = train_test_split(X, y, test_size=0.25, random_state=42)"
   ]
  },
  {
   "cell_type": "code",
   "execution_count": 184,
   "metadata": {},
   "outputs": [
    {
     "name": "stdout",
     "output_type": "stream",
     "text": [
      "<class 'pandas.core.frame.DataFrame'>\n",
      "Index: 56344 entries, 0 to 59399\n",
      "Data columns (total 11 columns):\n",
      " #   Column                 Non-Null Count  Dtype  \n",
      "---  ------                 --------------  -----  \n",
      " 0   amount_tsh             56344 non-null  float64\n",
      " 1   funder                 56344 non-null  int32  \n",
      " 2   gps_height             56344 non-null  int64  \n",
      " 3   region                 56344 non-null  int32  \n",
      " 4   population             56344 non-null  int64  \n",
      " 5   extraction_type_class  56344 non-null  int32  \n",
      " 6   management_group       56344 non-null  int32  \n",
      " 7   water_quality          56344 non-null  int32  \n",
      " 8   quantity               56344 non-null  int32  \n",
      " 9   source_type            56344 non-null  int32  \n",
      " 10  waterpoint_type        56344 non-null  int32  \n",
      "dtypes: float64(1), int32(8), int64(2)\n",
      "memory usage: 3.4 MB\n"
     ]
    }
   ],
   "source": [
    "X.info()"
   ]
  },
  {
   "attachments": {},
   "cell_type": "markdown",
   "metadata": {},
   "source": [
    "## Models"
   ]
  },
  {
   "attachments": {},
   "cell_type": "markdown",
   "metadata": {},
   "source": [
    "My data is now ready to be modeled. To begin, we will fit a dummy cllassifier model as my baseline model and analyze its performance indicators. Following that, I will fit several more classification models and evaluate their performance measures.\n",
    "\n",
    "I will choose the two best-performing models from the four models based on accuracy. The remaining two models will subsequently be tuned with ensemble methods.\n"
   ]
  },
  {
   "attachments": {},
   "cell_type": "markdown",
   "metadata": {},
   "source": [
    "### 1. Dummy Classifier - Baseline model"
   ]
  },
  {
   "attachments": {},
   "cell_type": "markdown",
   "metadata": {},
   "source": [
    "> DummyClassifier makes predictions that ignore the input features. This classifier serves as a simple baseline to compare against other more complex classifiers."
   ]
  },
  {
   "attachments": {},
   "cell_type": "markdown",
   "metadata": {},
   "source": [
    "- In terms of accuracy, the dummy classifier achieves an accuracy of 0.53, meaning that it correctly predicts the class for around 53% of the instances.\n",
    "\n",
    "- Overall, these results indicate that the dummy classifier performs poorly in predicting class 1, as it never correctly identifies any instances of that class. It performs better in predicting class 0, achieving a reasonable precision and recall."
   ]
  },
  {
   "cell_type": "code",
   "execution_count": 185,
   "metadata": {},
   "outputs": [
    {
     "name": "stdout",
     "output_type": "stream",
     "text": [
      "Classification Report:\n",
      "              precision    recall  f1-score   support\n",
      "\n",
      "           0       0.53      1.00      0.70      7534\n",
      "           1       0.00      0.00      0.00      6552\n",
      "\n",
      "    accuracy                           0.53     14086\n",
      "   macro avg       0.27      0.50      0.35     14086\n",
      "weighted avg       0.29      0.53      0.37     14086\n",
      "\n"
     ]
    }
   ],
   "source": [
    "#Build a pipeline with a StandardScaler and a DummyClassifier\n",
    "dummy_pipe = Pipeline([('scaler', StandardScaler()), \n",
    "                ('dummy', DummyClassifier(random_state=42))])\n",
    "# fit the pipeline to the training set\n",
    "dummy_pipe.fit(X_train, y_train)\n",
    "# make predictions on the test set\n",
    "y_pred_dummy = dummy_pipe.predict(X_test)\n",
    "# Generate and print the classification report\n",
    "print(\"Classification Report:\")\n",
    "print(classification_report(y_test, y_pred_dummy))"
   ]
  },
  {
   "cell_type": "code",
   "execution_count": 186,
   "metadata": {},
   "outputs": [
    {
     "data": {
      "image/png": "[encoded data removed]",
      "text/plain": [
       "<Figure size 500x500 with 2 Axes>"
      ]
     },
     "metadata": {},
     "output_type": "display_data"
    }
   ],
   "source": [
    "# Plot the confusion matrix without a color palette\n",
    "plt.figure(figsize=(5, 5))\n",
    "sns.heatmap(confusion_matrix(y_test, y_pred_dummy), annot=True, fmt='g')\n",
    "\n",
    "# Show the plot\n",
    "plt.show()"
   ]
  },
  {
   "cell_type": "markdown",
   "metadata": {},
   "source": [
    "This is really low lets move to the next Classifier"
   ]
  },
  {
   "cell_type": "markdown",
   "metadata": {},
   "source": [
    "### 2. Decision Tree Classifier"
   ]
  },
  {
   "cell_type": "markdown",
   "metadata": {},
   "source": [
    "> Decision Tree is a Supervised learning technique that can be used for both classification and Regression problems, but mostly it is preferred for solving Classification problems. The intuition behind Decision Trees is that you use the dataset features to create yes/no questions and continually split the dataset until you isolate all data points belonging to each class."
   ]
  },
  {
   "cell_type": "code",
   "execution_count": 187,
   "metadata": {},
   "outputs": [
    {
     "name": "stdout",
     "output_type": "stream",
     "text": [
      "Classification Report:\n",
      "              precision    recall  f1-score   support\n",
      "\n",
      "           0       0.77      0.81      0.79      7534\n",
      "           1       0.77      0.72      0.74      6552\n",
      "\n",
      "    accuracy                           0.77     14086\n",
      "   macro avg       0.77      0.77      0.77     14086\n",
      "weighted avg       0.77      0.77      0.77     14086\n",
      "\n"
     ]
    }
   ],
   "source": [
    "# Create a pipeline with a decision tree classifier as the estimator:\n",
    "dt = Pipeline([('scaler', StandardScaler()),\n",
    "                  ('tree', DecisionTreeClassifier(random_state=42))])\n",
    "# fit the pipeline to the training set\n",
    "dt.fit(X_train, y_train)\n",
    "# make predictions on the test set\n",
    "y_pred_dt = dt.predict(X_test)\n",
    "\n",
    "# Generate and print the classification report\n",
    "print(\"Classification Report:\")\n",
    "print(classification_report(y_test, y_pred_dt))\n"
   ]
  },
  {
   "cell_type": "code",
   "execution_count": 188,
   "metadata": {},
   "outputs": [
    {
     "data": {
      "image/png": "[encoded data removed]",
      "text/plain": [
       "<Figure size 500x500 with 2 Axes>"
      ]
     },
     "metadata": {},
     "output_type": "display_data"
    }
   ],
   "source": [
    "# Define a custom color palette\n",
    "color_palette = sns.color_palette(\"Blues\")\n",
    "# plot the confusion matrix\n",
    "plt.figure(figsize=(5,5))\n",
    "sns.heatmap(confusion_matrix(y_test, y_pred_dt), annot=True, fmt='g', cmap=color_palette);"
   ]
  },
  {
   "cell_type": "markdown",
   "metadata": {},
   "source": [
    "- The accuracy score represents the proportion of correctly predicted instances out of the total number of instances. In this case, the decision tree model achieved an accuracy of around 0.75, indicating that it predicted 75% of instances correctly."
   ]
  },
  {
   "cell_type": "markdown",
   "metadata": {},
   "source": [
    "### 3. Decision Tree with GridsearchCV"
   ]
  },
  {
   "cell_type": "markdown",
   "metadata": {},
   "source": [
    "This combines a Decision Tree Classifier with GridSearchCV, which is a technique for hyperparameter tuning. GridSearchCV systematically tests different hyperparameter values for the decision tree to find the optimal combination that improves model performance."
   ]
  },
  {
   "cell_type": "code",
   "execution_count": 189,
   "metadata": {},
   "outputs": [
    {
     "name": "stdout",
     "output_type": "stream",
     "text": [
      "Fitting 5 folds for each of 54 candidates, totalling 270 fits\n",
      "Best Parameters: {'tree__criterion': 'gini', 'tree__max_depth': 20, 'tree__min_samples_leaf': 4, 'tree__min_samples_split': 4}\n",
      "Classification Report:\n",
      "              precision    recall  f1-score   support\n",
      "\n",
      "           0       0.76      0.85      0.80      7534\n",
      "           1       0.80      0.69      0.74      6552\n",
      "\n",
      "    accuracy                           0.78     14086\n",
      "   macro avg       0.78      0.77      0.77     14086\n",
      "weighted avg       0.78      0.78      0.78     14086\n",
      "\n"
     ]
    }
   ],
   "source": [
    "dt = Pipeline([('scaler', StandardScaler()),\n",
    "                  ('tree', DecisionTreeClassifier(random_state=42))])\n",
    "# create a grid of parameters to test\n",
    "\n",
    "param_grid = [{'tree__max_depth': [16, 18, 20],\n",
    "              'tree__min_samples_split': [4, 6, 8],\n",
    "              'tree__min_samples_leaf': [2, 3, 4],\n",
    "              'tree__criterion': ['gini', 'entropy']}]\n",
    "\n",
    "# create grid with estimators\n",
    "gridsearch_dt = GridSearchCV(dt, param_grid, cv=5, n_jobs=-1, verbose=1)\n",
    "\n",
    "# fit the grid with the data    \n",
    "gridsearch_dt.fit(X_train, y_train);\n",
    "\n",
    "# Get the best parameters\n",
    "best_params_dt = gridsearch_dt.best_params_\n",
    "\n",
    "print(\"Best Parameters:\", best_params_dt)\n",
    "# Make predictions on the test data using the trained pipeline\n",
    "y_pred_gridsearchdt = gridsearch_dt.predict(X_test)\n",
    "\n",
    "# Generate and print the classification report\n",
    "print(\"Classification Report:\")\n",
    "print(classification_report(y_test, y_pred_gridsearchdt))"
   ]
  },
  {
   "cell_type": "code",
   "execution_count": 190,
   "metadata": {},
   "outputs": [
    {
     "data": {
      "image/png": "[encoded data removed]",
      "text/plain": [
       "<Figure size 500x500 with 2 Axes>"
      ]
     },
     "metadata": {},
     "output_type": "display_data"
    }
   ],
   "source": [
    "# plot the confusion matrix\n",
    "plt.figure(figsize=(5,5))\n",
    "sns.heatmap(confusion_matrix(y_test, y_pred_gridsearchdt), annot=True, fmt='g');"
   ]
  },
  {
   "cell_type": "markdown",
   "metadata": {},
   "source": [
    "The difference in accuracy you observed indicates that the model with GridSearchCV is performing better than the basic Decision Tree Classifier. Here’s what it means:\n",
    "\n",
    "Decision Tree Classifier (0.77 accuracy): This is the performance of the basic decision tree model on your data.\n",
    "\n",
    "Decision Tree with GridSearchCV (0.78 accuracy): This improved accuracy suggests that the GridSearchCV process found better hyperparameters for the decision tree model, leading to enhanced performance.\n",
    "\n",
    "The 0.01(1%) increase in accuracy with GridSearchCV indicates that the hyperparameter tuning helped the model generalize better to the data, likely by optimizing settings like the tree depth, minimum samples per leaf, or other parameters. This improvement demonstrates the value of hyperparameter optimization in achieving better model performance.\n",
    "\n",
    "\n",
    "\n",
    "\n",
    "\n",
    "\n",
    "\n"
   ]
  },
  {
   "cell_type": "markdown",
   "metadata": {},
   "source": [
    "As you can see the model has perfomed well since there are a lot of true positives and true negatives and there is a low number of false positives and negatives, meaning he model was able to predict accurately to some extent."
   ]
  },
  {
   "cell_type": "markdown",
   "metadata": {},
   "source": [
    "### 4. Support Vector Machine (SVM) classifier"
   ]
  },
  {
   "cell_type": "markdown",
   "metadata": {},
   "source": [
    "> A Support Vector Machine (SVM) classifier is a powerful supervised machine learning algorithm used for both classification and regression tasks. It is particularly effective in handling high-dimensional feature spaces and datasets with clear separation between classes"
   ]
  },
  {
   "cell_type": "code",
   "execution_count": 191,
   "metadata": {},
   "outputs": [
    {
     "name": "stdout",
     "output_type": "stream",
     "text": [
      "Classification Report:\n",
      "              precision    recall  f1-score   support\n",
      "\n",
      "           0       0.68      0.92      0.78      7534\n",
      "           1       0.85      0.51      0.64      6552\n",
      "\n",
      "    accuracy                           0.73     14086\n",
      "   macro avg       0.77      0.72      0.71     14086\n",
      "weighted avg       0.76      0.73      0.72     14086\n",
      "\n"
     ]
    }
   ],
   "source": [
    "# Create a pipeline with an SVM classifier as the estimator\n",
    "svm_clf  = Pipeline([('scaler', StandardScaler()),\n",
    "    ('classifier', SVC(random_state=42))\n",
    "])\n",
    "\n",
    "# Fit the pipeline on the training data\n",
    "svm_clf.fit(X_train, y_train)\n",
    "\n",
    "# Make predictions on the test data using the trained pipeline\n",
    "y_pred_svm = svm_clf.predict(X_test)\n",
    "\n",
    "# Generate and print the classification report\n",
    "print(\"Classification Report:\")\n",
    "print(classification_report(y_test, y_pred_svm))"
   ]
  },
  {
   "cell_type": "code",
   "execution_count": 192,
   "metadata": {},
   "outputs": [
    {
     "data": {
      "image/png": "[encoded data removed]",
      "text/plain": [
       "<Figure size 500x500 with 2 Axes>"
      ]
     },
     "metadata": {},
     "output_type": "display_data"
    }
   ],
   "source": [
    "# plot the confusion matrix\n",
    "plt.figure(figsize=(5,5))\n",
    "sns.heatmap(confusion_matrix(y_test, y_pred_svm), annot=True, fmt='g', cmap=color_palette);"
   ]
  },
  {
   "cell_type": "markdown",
   "metadata": {},
   "source": [
    "###  5. K-Nearest Neighbors"
   ]
  },
  {
   "cell_type": "markdown",
   "metadata": {},
   "source": [
    "> K-Nearest Neighbors (KNN) is a simple yet effective machine learning algorithm used for both classification and regression tasks. It is a non-parametric algorithm that makes predictions based on the similarity of data points in the feature space."
   ]
  },
  {
   "cell_type": "code",
   "execution_count": 193,
   "metadata": {},
   "outputs": [
    {
     "name": "stdout",
     "output_type": "stream",
     "text": [
      "Classification Report:\n",
      "              precision    recall  f1-score   support\n",
      "\n",
      "           0       0.77      0.82      0.79      7534\n",
      "           1       0.77      0.72      0.74      6552\n",
      "\n",
      "    accuracy                           0.77     14086\n",
      "   macro avg       0.77      0.77      0.77     14086\n",
      "weighted avg       0.77      0.77      0.77     14086\n",
      "\n"
     ]
    }
   ],
   "source": [
    "knn_clf = Pipeline([('scaler', StandardScaler()),\n",
    "                     ('knn_clf', KNeighborsClassifier())\n",
    "])\n",
    "\n",
    "# Fit the pipeline to the training data\n",
    "knn_clf.fit(X_train, y_train)\n",
    "\n",
    "# make predictions on test data\n",
    "y_pred_knn = knn_clf.predict(X_test)\n",
    "\n",
    "# Generate and print the classification report\n",
    "print(\"Classification Report:\")\n",
    "print(classification_report(y_test, y_pred_knn))"
   ]
  },
  {
   "cell_type": "code",
   "execution_count": 194,
   "metadata": {},
   "outputs": [
    {
     "data": {
      "text/plain": [
       "(14086, 14086)"
      ]
     },
     "execution_count": 194,
     "metadata": {},
     "output_type": "execute_result"
    }
   ],
   "source": [
    "len(y_test), len(y_pred_knn)"
   ]
  },
  {
   "cell_type": "code",
   "execution_count": 195,
   "metadata": {},
   "outputs": [],
   "source": [
    "y_pred_knn = y_pred_knn[:len(y_test)]"
   ]
  },
  {
   "cell_type": "markdown",
   "metadata": {},
   "source": [
    "- The accuracy of the model is 0.76, indicating that it correctly classifies 76% of the instances."
   ]
  },
  {
   "cell_type": "markdown",
   "metadata": {},
   "source": [
    "### 6. K-Nearest Neighbors with grid search"
   ]
  },
  {
   "cell_type": "code",
   "execution_count": 196,
   "metadata": {},
   "outputs": [
    {
     "name": "stdout",
     "output_type": "stream",
     "text": [
      "Fitting 5 folds for each of 12 candidates, totalling 60 fits\n",
      "Best Parameters: {'knn_clf__n_neighbors': 7, 'knn_clf__p': 1, 'knn_clf__weights': 'distance'}\n",
      "Classification Report:\n",
      "              precision    recall  f1-score   support\n",
      "\n",
      "           0       0.78      0.82      0.80      7534\n",
      "           1       0.78      0.73      0.76      6552\n",
      "\n",
      "    accuracy                           0.78     14086\n",
      "   macro avg       0.78      0.78      0.78     14086\n",
      "weighted avg       0.78      0.78      0.78     14086\n",
      "\n"
     ]
    }
   ],
   "source": [
    "# Define the parameter grid for GridSearchCV\n",
    "param_grid_knn = {\n",
    "    'knn_clf__n_neighbors': [3, 5, 7],\n",
    "    'knn_clf__weights': ['uniform', 'distance'],\n",
    "    'knn_clf__p': [1, 2]\n",
    "}\n",
    "\n",
    "# Create the GridSearchCV object\n",
    "gridsearch_knn = GridSearchCV(estimator=knn_clf, param_grid=param_grid_knn, cv=5, verbose=2, n_jobs=-1)\n",
    "\n",
    "# Fit the GridSearchCV on the training data\n",
    "gridsearch_knn.fit(X_train, y_train)\n",
    "\n",
    "# Get the best parameters\n",
    "best_params_knn = gridsearch_knn.best_params_\n",
    "\n",
    "print(\"Best Parameters:\", best_params_knn)\n",
    "\n",
    "# Make predictions on the test data using the trained pipeline\n",
    "y_pred_gridsearchknn = gridsearch_knn.predict(X_test)\n",
    "\n",
    "# Generate and print the classification report\n",
    "print(\"Classification Report:\")\n",
    "print(classification_report(y_test, y_pred_gridsearchknn))"
   ]
  },
  {
   "cell_type": "markdown",
   "metadata": {},
   "source": [
    "Best Parameters: The best parameters found during the grid search are:\n",
    "\n",
    "- Number of neighbors (knn_clf__n_neighbors): 7\n",
    "- Distance metric power parameter (knn_clf__p): 1\n",
    "- Weighting scheme (knn_clf__weights): 'distance'\n",
    "\n",
    "\n",
    "- Accuracy: The accuracy of the model is 0.77, indicating that it correctly classifies 77% of the instances."
   ]
  },
  {
   "cell_type": "markdown",
   "metadata": {},
   "source": [
    "# Logistic regression"
   ]
  },
  {
   "cell_type": "code",
   "execution_count": 197,
   "metadata": {},
   "outputs": [
    {
     "name": "stdout",
     "output_type": "stream",
     "text": [
      "Classification Report:\n",
      "              precision    recall  f1-score   support\n",
      "\n",
      "           0       0.60      0.67      0.63      7534\n",
      "           1       0.57      0.50      0.53      6552\n",
      "\n",
      "    accuracy                           0.59     14086\n",
      "   macro avg       0.59      0.58      0.58     14086\n",
      "weighted avg       0.59      0.59      0.59     14086\n",
      "\n"
     ]
    }
   ],
   "source": [
    "from sklearn.linear_model import LogisticRegression\n",
    "from sklearn.metrics import classification_report\n",
    "\n",
    "# Create a pipeline with a StandardScaler and a LogisticRegression classifier\n",
    "logreg_pipeline = Pipeline([\n",
    "    ('scaler', StandardScaler()), \n",
    "    ('logreg', LogisticRegression(random_state=42))\n",
    "])\n",
    "\n",
    "#Fit the pipeline to the training set\n",
    "logreg_pipeline.fit(X_train, y_train)\n",
    "\n",
    "# Make predictions on the test set\n",
    "y_pred_logreg = logreg_pipeline.predict(X_test)\n",
    "\n",
    "# Generate and print the classification report\n",
    "print(\"Classification Report:\")\n",
    "print(classification_report(y_test, y_pred_logreg))\n"
   ]
  },
  {
   "cell_type": "markdown",
   "metadata": {},
   "source": [
    "Thats really low for a classifier. Logistic regression is suppossed to do the below;  \n",
    "\n",
    "Logistic regression is a statistical model commonly used for binary classification tasks, where the goal is to predict one of two possible classes (e.g., 0 or 1, \"yes\" or \"no\").  \n",
    "\n",
    "Logistic regression outputs probability scores for each class.   \n",
    "\n",
    " probabilities represent the likelihood that a given input belongs to a particular class. For a binary classification problem, logistic regression calculates the probability that an observation belongs to the positive class (typically labeled as 1)."
   ]
  },
  {
   "cell_type": "markdown",
   "metadata": {},
   "source": [
    "Lets try to fing different ways to improve this model. Using this classifier, Simple models like Logistic Regression is easier to interpret compared to others."
   ]
  },
  {
   "cell_type": "code",
   "execution_count": 198,
   "metadata": {},
   "outputs": [
    {
     "name": "stdout",
     "output_type": "stream",
     "text": [
      "Classification Report:\n",
      "                precision    recall  f1-score   support\n",
      "\n",
      "    functional       0.73      0.85      0.78      6039\n",
      "non functional       0.79      0.63      0.70      5230\n",
      "\n",
      "      accuracy                           0.75     11269\n",
      "     macro avg       0.76      0.74      0.74     11269\n",
      "  weighted avg       0.75      0.75      0.74     11269\n",
      "\n"
     ]
    }
   ],
   "source": [
    "import pandas as pd\n",
    "from sklearn.pipeline import Pipeline\n",
    "from sklearn.compose import ColumnTransformer\n",
    "from sklearn.preprocessing import OneHotEncoder, StandardScaler\n",
    "from sklearn.impute import SimpleImputer\n",
    "from sklearn.linear_model import LogisticRegression\n",
    "from sklearn.metrics import classification_report\n",
    "from sklearn.model_selection import train_test_split\n",
    "\n",
    "# Load your data into a DataFrame\n",
    "df = pd.read_csv('./Data/clean_data.csv') \n",
    "\n",
    "# Split your data into features and target variable\n",
    "X = df.drop('status_group', axis=1)  # Replace 'status_group' with the name of your target variable\n",
    "y = df['status_group']  # Target variable\n",
    "\n",
    "# Splitting the data into training and test sets\n",
    "X_train, X_test, y_train, y_test = train_test_split(X, y, test_size=0.2, random_state=42)\n",
    "\n",
    "# Defining the preprocessing for numerical and categorical columns\n",
    "numerical_cols = ['amount_tsh', 'gps_height', 'population']\n",
    "categorical_cols = ['region', 'extraction_type_class', 'management_group', 'funder',\n",
    "                    'quantity', 'water_quality', 'waterpoint_type', 'source_type']\n",
    "\n",
    "# Define preprocessing for numerical data (imputation + scaling)\n",
    "numerical_transformer = Pipeline(steps=[\n",
    "    ('imputer', SimpleImputer(strategy='mean')),\n",
    "    ('scaler', StandardScaler())\n",
    "])\n",
    "\n",
    "# Define preprocessing for categorical data (imputation + one-hot encoding)\n",
    "categorical_transformer = Pipeline(steps=[\n",
    "    ('imputer', SimpleImputer(strategy='most_frequent')),\n",
    "    ('onehot', OneHotEncoder(handle_unknown='ignore'))\n",
    "])\n",
    "\n",
    "# Combine preprocessing for numerical and categorical data\n",
    "preprocessor = ColumnTransformer(\n",
    "    transformers=[\n",
    "        ('num', numerical_transformer, numerical_cols),\n",
    "        ('cat', categorical_transformer, categorical_cols)\n",
    "    ])\n",
    "\n",
    "# Create the logistic regression pipeline\n",
    "logreg_pipeline = Pipeline(steps=[\n",
    "    ('preprocessor', preprocessor),\n",
    "    ('classifier', LogisticRegression(max_iter=1000, random_state=42))\n",
    "])\n",
    "\n",
    "# Fit the pipeline to the training data\n",
    "logreg_pipeline.fit(X_train, y_train)\n",
    "\n",
    "# Make predictions on the test data\n",
    "y_pred = logreg_pipeline.predict(X_test)\n",
    "\n",
    "# Generate and print the classification report\n",
    "print(\"Classification Report:\")\n",
    "print(classification_report(y_test, y_pred))\n"
   ]
  },
  {
   "cell_type": "code",
   "execution_count": 199,
   "metadata": {},
   "outputs": [
    {
     "data": {
      "image/png": "[encoded data removed]",
      "text/plain": [
       "<Figure size 800x600 with 2 Axes>"
      ]
     },
     "metadata": {},
     "output_type": "display_data"
    }
   ],
   "source": [
    "# Generate the confusion matrix\n",
    "cm = confusion_matrix(y_test, y_pred)\n",
    "\n",
    "# Plot the confusion matrix with a colored heatmap\n",
    "plt.figure(figsize=(8, 6))\n",
    "sns.heatmap(cm, annot=True, fmt='d', cmap='viridis', xticklabels=logreg_pipeline.classes_, yticklabels=logreg_pipeline.classes_)\n",
    "plt.xlabel('Predicted')\n",
    "plt.ylabel('Actual')\n",
    "plt.title('Confusion Matrix')\n",
    "plt.show()"
   ]
  },
  {
   "cell_type": "markdown",
   "metadata": {},
   "source": [
    "# Feature Engineering"
   ]
  },
  {
   "cell_type": "code",
   "execution_count": 200,
   "metadata": {},
   "outputs": [
    {
     "data": {
      "text/plain": [
       "Unnamed: 0                  0\n",
       "amount_tsh                  0\n",
       "date_recorded               0\n",
       "funder                   1219\n",
       "gps_height                  0\n",
       "basin                       0\n",
       "region                      0\n",
       "local_government_area       0\n",
       "population                  0\n",
       "permit                      0\n",
       "construction_year           0\n",
       "extraction_type_class       0\n",
       "management_group            0\n",
       "payment_type                0\n",
       "water_quality               0\n",
       "quantity                    0\n",
       "source_type                 0\n",
       "waterpoint_type             0\n",
       "status_group                0\n",
       "construction_decade         0\n",
       "dtype: int64"
      ]
     },
     "execution_count": 200,
     "metadata": {},
     "output_type": "execute_result"
    }
   ],
   "source": [
    "df.isnull().sum()"
   ]
  },
  {
   "cell_type": "code",
   "execution_count": 201,
   "metadata": {},
   "outputs": [
    {
     "data": {
      "text/plain": [
       "(56344, 56344)"
      ]
     },
     "execution_count": 201,
     "metadata": {},
     "output_type": "execute_result"
    }
   ],
   "source": [
    "len(df['amount_tsh']), len(df['gps_height'])\n"
   ]
  },
  {
   "cell_type": "code",
   "execution_count": 202,
   "metadata": {},
   "outputs": [
    {
     "name": "stdout",
     "output_type": "stream",
     "text": [
      "   amount_tsh  gps_height\n",
      "0      6000.0        1390\n",
      "1         0.0        1399\n",
      "2        25.0         686\n",
      "3         0.0         263\n",
      "4         0.0           0\n"
     ]
    }
   ],
   "source": [
    "print(df[['amount_tsh', 'gps_height']].head())\n"
   ]
  },
  {
   "cell_type": "markdown",
   "metadata": {},
   "source": [
    "Create Interaction Features"
   ]
  },
  {
   "cell_type": "markdown",
   "metadata": {},
   "source": [
    "Interaction features capture relationships between variables that might be missed if you only look at individual features. For instance, combining amount_tsh and gps_height could reveal insights into the relationship between these features."
   ]
  },
  {
   "cell_type": "code",
   "execution_count": 203,
   "metadata": {},
   "outputs": [],
   "source": [
    "# Create an interaction feature\n",
    "df['amount_tsh_gps_height'] = df['amount_tsh'] * df['gps_height']\n"
   ]
  },
  {
   "cell_type": "markdown",
   "metadata": {},
   "source": [
    "Polynomial Features\n"
   ]
  },
  {
   "cell_type": "markdown",
   "metadata": {},
   "source": [
    "Polynomial features are used to capture non-linear relationships. For numerical features, you can create polynomial terms (e.g., squared or cubic terms)."
   ]
  },
  {
   "cell_type": "code",
   "execution_count": 204,
   "metadata": {},
   "outputs": [],
   "source": [
    "from sklearn.preprocessing import PolynomialFeatures\n",
    "\n",
    "# Initialize PolynomialFeatures with degree 2 (squared terms)\n",
    "poly = PolynomialFeatures(degree=2, include_bias=False)\n",
    "\n",
    "# Fit and transform the numerical features\n",
    "X_numerical_poly = poly.fit_transform(df[numerical_cols])\n",
    "\n",
    "# Create a DataFrame from the transformed features\n",
    "df_numerical_poly = pd.DataFrame(X_numerical_poly, columns=poly.get_feature_names_out(numerical_cols))\n",
    "\n",
    "# Concatenate the original DataFrame with the new polynomial features\n",
    "df = pd.concat([df, df_numerical_poly], axis=1)\n"
   ]
  },
  {
   "cell_type": "markdown",
   "metadata": {},
   "source": [
    "Binning"
   ]
  },
  {
   "cell_type": "markdown",
   "metadata": {},
   "source": [
    "Binning involves converting continuous variables into categorical bins, which can help in managing outliers and capturing non-linear relationships"
   ]
  },
  {
   "cell_type": "code",
   "execution_count": 205,
   "metadata": {},
   "outputs": [
    {
     "name": "stdout",
     "output_type": "stream",
     "text": [
      "   gps_height  gps_height\n",
      "0        1390      1390.0\n",
      "1        1399      1399.0\n",
      "2         686       686.0\n",
      "3         263       263.0\n",
      "4           0         0.0\n",
      "[<class 'pandas.core.series.Series'>]\n"
     ]
    }
   ],
   "source": [
    "# Check the structure of 'gps_height'\n",
    "print(df['gps_height'].head())  # View the first few entries\n",
    "print(df['gps_height'].apply(lambda x: type(x)).unique())  # Check the data types within the column\n"
   ]
  },
  {
   "cell_type": "code",
   "execution_count": 206,
   "metadata": {},
   "outputs": [
    {
     "name": "stdout",
     "output_type": "stream",
     "text": [
      "[]\n",
      "['amount_tsh', 'gps_height', 'population']\n"
     ]
    }
   ],
   "source": [
    "# Check for duplicate indices\n",
    "print(df.index[df.index.duplicated()].tolist())\n",
    "\n",
    "# Check for duplicate columns\n",
    "print(df.columns[df.columns.duplicated()].tolist())\n"
   ]
  },
  {
   "cell_type": "code",
   "execution_count": 207,
   "metadata": {},
   "outputs": [],
   "source": [
    "# Reset index to remove duplicates\n",
    "df = df.reset_index(drop=True)\n"
   ]
  },
  {
   "cell_type": "code",
   "execution_count": 208,
   "metadata": {},
   "outputs": [],
   "source": [
    "# Remove duplicate columns, keeping the first occurrence\n",
    "df = df.loc[:, ~df.columns.duplicated()]\n"
   ]
  },
  {
   "cell_type": "code",
   "execution_count": 209,
   "metadata": {},
   "outputs": [
    {
     "name": "stdout",
     "output_type": "stream",
     "text": [
      "   gps_height gps_height_binned\n",
      "0        1390            Medium\n",
      "1        1399            Medium\n",
      "2         686               Low\n",
      "3         263          Very Low\n",
      "4           0               NaN\n"
     ]
    }
   ],
   "source": [
    "# Ensure 'gps_height' is numeric\n",
    "df['gps_height'] = pd.to_numeric(df['gps_height'], errors='coerce')\n",
    "\n",
    "# Define bins and labels\n",
    "bins = [0, 500, 1000, 1500, 2000, 2500, 3000]\n",
    "labels = ['Very Low', 'Low', 'Medium', 'High', 'Very High', 'Extreme']\n",
    "\n",
    "# Apply binning\n",
    "df['gps_height_binned'] = pd.cut(df['gps_height'], bins=bins, labels=labels)\n",
    "\n",
    "# Verify the result\n",
    "print(df[['gps_height', 'gps_height_binned']].head())\n"
   ]
  },
  {
   "cell_type": "code",
   "execution_count": 210,
   "metadata": {},
   "outputs": [
    {
     "name": "stdout",
     "output_type": "stream",
     "text": [
      "int64\n",
      "gps_height_binned\n",
      "Medium       11913\n",
      "Very Low      9682\n",
      "High          7629\n",
      "Low           5085\n",
      "Very High     1177\n",
      "Extreme         30\n",
      "Name: count, dtype: int64\n"
     ]
    }
   ],
   "source": [
    "# Check if 'gps_height' contains any non-numeric values\n",
    "print(df['gps_height'].dtype)\n",
    "\n",
    "# Verify 'gps_height_binned' values\n",
    "print(df['gps_height_binned'].value_counts())\n"
   ]
  },
  {
   "cell_type": "code",
   "execution_count": 211,
   "metadata": {},
   "outputs": [],
   "source": [
    "# Example of a domain-specific feature\n",
    "major_funders = ['Funder1', 'Funder2', 'Funder3']  # List of known major funders\n",
    "\n",
    "# Create a binary feature indicating if the funder is a major funder\n",
    "df['major_funder'] = df['funder'].apply(lambda x: 1 if x in major_funders else 0)\n"
   ]
  },
  {
   "cell_type": "markdown",
   "metadata": {},
   "source": [
    "1. Amount TSH\n",
    "Log Transformation:"
   ]
  },
  {
   "cell_type": "code",
   "execution_count": 212,
   "metadata": {},
   "outputs": [],
   "source": [
    "df['log_amount_tsh'] = np.log1p(df['amount_tsh'])\n"
   ]
  },
  {
   "cell_type": "code",
   "execution_count": 213,
   "metadata": {},
   "outputs": [],
   "source": [
    "bins_amount_tsh = [0, 1000, 5000, 10000, 50000, 100000]\n",
    "labels_amount_tsh = ['Very Low', 'Low', 'Medium', 'High', 'Very High']\n",
    "df['amount_tsh_binned'] = pd.cut(df['amount_tsh'], bins=bins_amount_tsh, labels=labels_amount_tsh)\n"
   ]
  },
  {
   "cell_type": "code",
   "execution_count": 214,
   "metadata": {},
   "outputs": [],
   "source": [
    "from sklearn.preprocessing import StandardScaler\n",
    "scaler = StandardScaler()\n",
    "df['amount_tsh_standardized'] = scaler.fit_transform(df[['amount_tsh']])\n"
   ]
  },
  {
   "cell_type": "markdown",
   "metadata": {},
   "source": [
    "GPS Height\n",
    "Log Transformation:"
   ]
  },
  {
   "cell_type": "code",
   "execution_count": 215,
   "metadata": {},
   "outputs": [],
   "source": [
    "df['log_gps_height'] = np.log1p(df['gps_height'])\n"
   ]
  },
  {
   "cell_type": "code",
   "execution_count": 216,
   "metadata": {},
   "outputs": [],
   "source": [
    "bins_gps_height = [0, 500, 1000, 1500, 2000, 2500, 3000]\n",
    "labels_gps_height = ['Very Low', 'Low', 'Medium', 'High', 'Very High', 'Extreme']\n",
    "df['gps_height_binned'] = pd.cut(df['gps_height'], bins=bins_gps_height, labels=labels_gps_height)\n"
   ]
  },
  {
   "cell_type": "code",
   "execution_count": 217,
   "metadata": {},
   "outputs": [],
   "source": [
    "scaler = StandardScaler()\n",
    "df['gps_height_standardized'] = scaler.fit_transform(df[['gps_height']])\n"
   ]
  },
  {
   "cell_type": "markdown",
   "metadata": {},
   "source": [
    "3. Population Log Transformation"
   ]
  },
  {
   "cell_type": "code",
   "execution_count": 218,
   "metadata": {},
   "outputs": [],
   "source": [
    "df['log_population'] = np.log1p(df['population'])\n"
   ]
  },
  {
   "cell_type": "code",
   "execution_count": 219,
   "metadata": {},
   "outputs": [],
   "source": [
    "bins_population = [0, 500, 1000, 5000, 10000, 50000]\n",
    "labels_population = ['Very Small', 'Small', 'Medium', 'Large', 'Very Large']\n",
    "df['population_binned'] = pd.cut(df['population'], bins=bins_population, labels=labels_population)\n"
   ]
  },
  {
   "cell_type": "code",
   "execution_count": 220,
   "metadata": {},
   "outputs": [],
   "source": [
    "scaler = StandardScaler()\n",
    "df['population_standardized'] = scaler.fit_transform(df[['population']])\n"
   ]
  },
  {
   "cell_type": "markdown",
   "metadata": {},
   "source": [
    "Interaction Features\n",
    "1. Amount TSH and GPS Height Interaction"
   ]
  },
  {
   "cell_type": "code",
   "execution_count": 221,
   "metadata": {},
   "outputs": [],
   "source": [
    "df['amount_tsh_gps_height'] = df['amount_tsh'] * df['gps_height']\n"
   ]
  },
  {
   "cell_type": "markdown",
   "metadata": {},
   "source": [
    "2.Amount TSH and Population Interaction:"
   ]
  },
  {
   "cell_type": "code",
   "execution_count": 222,
   "metadata": {},
   "outputs": [],
   "source": [
    "df['amount_tsh_population'] = df['amount_tsh'] * df['population']\n"
   ]
  },
  {
   "cell_type": "markdown",
   "metadata": {},
   "source": [
    "3.GPS Height and Population Interaction:"
   ]
  },
  {
   "cell_type": "code",
   "execution_count": 223,
   "metadata": {},
   "outputs": [],
   "source": [
    "df['gps_height_population'] = df['gps_height'] * df['population']\n"
   ]
  },
  {
   "cell_type": "code",
   "execution_count": 224,
   "metadata": {},
   "outputs": [
    {
     "name": "stdout",
     "output_type": "stream",
     "text": [
      "<class 'pandas.core.frame.DataFrame'>\n",
      "RangeIndex: 56344 entries, 0 to 56343\n",
      "Data columns (total 39 columns):\n",
      " #   Column                   Non-Null Count  Dtype   \n",
      "---  ------                   --------------  -----   \n",
      " 0   Unnamed: 0               56344 non-null  int64   \n",
      " 1   amount_tsh               56344 non-null  float64 \n",
      " 2   date_recorded            56344 non-null  object  \n",
      " 3   funder                   55125 non-null  object  \n",
      " 4   gps_height               56344 non-null  int64   \n",
      " 5   basin                    56344 non-null  object  \n",
      " 6   region                   56344 non-null  object  \n",
      " 7   local_government_area    56344 non-null  object  \n",
      " 8   population               56344 non-null  int64   \n",
      " 9   permit                   56344 non-null  bool    \n",
      " 10  construction_year        56344 non-null  int64   \n",
      " 11  extraction_type_class    56344 non-null  object  \n",
      " 12  management_group         56344 non-null  object  \n",
      " 13  payment_type             56344 non-null  object  \n",
      " 14  water_quality            56344 non-null  object  \n",
      " 15  quantity                 56344 non-null  object  \n",
      " 16  source_type              56344 non-null  object  \n",
      " 17  waterpoint_type          56344 non-null  object  \n",
      " 18  status_group             56344 non-null  object  \n",
      " 19  construction_decade      56344 non-null  object  \n",
      " 20  amount_tsh_gps_height    56344 non-null  float64 \n",
      " 21  amount_tsh^2             56344 non-null  float64 \n",
      " 22  amount_tsh gps_height    56344 non-null  float64 \n",
      " 23  amount_tsh population    56344 non-null  float64 \n",
      " 24  gps_height^2             56344 non-null  float64 \n",
      " 25  gps_height population    56344 non-null  float64 \n",
      " 26  population^2             56344 non-null  float64 \n",
      " 27  gps_height_binned        35516 non-null  category\n",
      " 28  major_funder             56344 non-null  int64   \n",
      " 29  log_amount_tsh           56344 non-null  float64 \n",
      " 30  amount_tsh_binned        17322 non-null  category\n",
      " 31  amount_tsh_standardized  56344 non-null  float64 \n",
      " 32  log_gps_height           54870 non-null  float64 \n",
      " 33  gps_height_standardized  56344 non-null  float64 \n",
      " 34  log_population           56344 non-null  float64 \n",
      " 35  population_binned        36072 non-null  category\n",
      " 36  population_standardized  56344 non-null  float64 \n",
      " 37  amount_tsh_population    56344 non-null  float64 \n",
      " 38  gps_height_population    56344 non-null  int64   \n",
      "dtypes: bool(1), category(3), float64(15), int64(6), object(14)\n",
      "memory usage: 15.3+ MB\n"
     ]
    }
   ],
   "source": [
    "# again view the summary of dataset\n",
    "\n",
    "df.info()"
   ]
  },
  {
   "cell_type": "code",
   "execution_count": 225,
   "metadata": {},
   "outputs": [
    {
     "name": "stdout",
     "output_type": "stream",
     "text": [
      "   Unnamed: 0  amount_tsh date_recorded        funder  gps_height  \\\n",
      "0           0      6000.0    2011-03-14         Roman        1390   \n",
      "1           1         0.0    2013-03-06       Grumeti        1399   \n",
      "2           2        25.0    2013-02-25  Lottery Club         686   \n",
      "3           3         0.0    2013-01-28        Unicef         263   \n",
      "4           4         0.0    2011-07-13   Action In A           0   \n",
      "\n",
      "                     basin   region local_government_area  population  permit  \\\n",
      "0               Lake Nyasa   Iringa                Ludewa         109   False   \n",
      "1            Lake Victoria     Mara             Serengeti         280    True   \n",
      "2                  Pangani  Manyara             Simanjiro         250    True   \n",
      "3  Ruvuma / Southern Coast   Mtwara              Nanyumbu          58    True   \n",
      "4            Lake Victoria   Kagera               Karagwe           0    True   \n",
      "\n",
      "   ...  log_amount_tsh amount_tsh_binned amount_tsh_standardized  \\\n",
      "0  ...        8.699681            Medium                2.142864   \n",
      "1  ...        0.000000               NaN               -0.121572   \n",
      "2  ...        3.258097          Very Low               -0.112137   \n",
      "3  ...        0.000000               NaN               -0.121572   \n",
      "4  ...        0.000000               NaN               -0.121572   \n",
      "\n",
      "  log_gps_height gps_height_standardized log_population population_binned  \\\n",
      "0       7.237778                1.062134       4.700480        Very Small   \n",
      "1       7.244228                1.075171       5.638355        Very Small   \n",
      "2       6.532334                0.042386       5.525453        Very Small   \n",
      "3       5.575949               -0.570331       4.077537        Very Small   \n",
      "4       0.000000               -0.951288       0.000000               NaN   \n",
      "\n",
      "  population_standardized amount_tsh_population gps_height_population  \n",
      "0               -0.152476              654000.0                151510  \n",
      "1                0.215446                   0.0                391720  \n",
      "2                0.150898                6250.0                171500  \n",
      "3               -0.262207                   0.0                 15254  \n",
      "4               -0.386999                   0.0                     0  \n",
      "\n",
      "[5 rows x 39 columns]\n",
      "(56344, 39)\n"
     ]
    }
   ],
   "source": [
    "print(df.head())  # Check the first few rows of the original DataFrame\n",
    "print(df.shape)   # Check the shape of the DataFrame (rows, columns)\n"
   ]
  },
  {
   "cell_type": "code",
   "execution_count": 226,
   "metadata": {},
   "outputs": [],
   "source": [
    "# Fill NaN values in numeric columns with the mean of those columns\n",
    "#df.fillna(df.select_dtypes(include=[np.number]).mean(), inplace=True)\n"
   ]
  },
  {
   "cell_type": "code",
   "execution_count": 227,
   "metadata": {},
   "outputs": [],
   "source": [
    "# Fill NaN in numeric columns with the mean\n",
    "df_numeric = df.select_dtypes(include=[np.number])\n",
    "df[df_numeric.columns] = df_numeric.fillna(df_numeric.mean())\n",
    "\n",
    "# Fill NaN in non-numeric columns with a different strategy (e.g., mode)\n",
    "df_non_numeric = df.select_dtypes(exclude=[np.number])\n",
    "df[df_non_numeric.columns] = df_non_numeric.fillna(df_non_numeric.mode().iloc[0])\n"
   ]
  },
  {
   "cell_type": "code",
   "execution_count": 228,
   "metadata": {},
   "outputs": [
    {
     "name": "stdout",
     "output_type": "stream",
     "text": [
      "0        False\n",
      "1        False\n",
      "2        False\n",
      "3        False\n",
      "4        False\n",
      "         ...  \n",
      "56339    False\n",
      "56340    False\n",
      "56341    False\n",
      "56342    False\n",
      "56343    False\n",
      "Length: 56344, dtype: bool\n"
     ]
    }
   ],
   "source": [
    "duplicates = df.duplicated()\n",
    "print(duplicates)\n"
   ]
  },
  {
   "cell_type": "code",
   "execution_count": 229,
   "metadata": {},
   "outputs": [
    {
     "name": "stdout",
     "output_type": "stream",
     "text": [
      "Empty DataFrame\n",
      "Columns: [Unnamed: 0, amount_tsh, date_recorded, funder, gps_height, basin, region, local_government_area, population, permit, construction_year, extraction_type_class, management_group, payment_type, water_quality, quantity, source_type, waterpoint_type, status_group, construction_decade, amount_tsh_gps_height, amount_tsh^2, amount_tsh gps_height, amount_tsh population, gps_height^2, gps_height population, population^2, gps_height_binned, major_funder, log_amount_tsh, amount_tsh_binned, amount_tsh_standardized, log_gps_height, gps_height_standardized, log_population, population_binned, population_standardized, amount_tsh_population, gps_height_population]\n",
      "Index: []\n",
      "\n",
      "[0 rows x 39 columns]\n"
     ]
    }
   ],
   "source": [
    "duplicate_rows = df[df.duplicated()]\n",
    "print(duplicate_rows)\n"
   ]
  },
  {
   "cell_type": "markdown",
   "metadata": {},
   "source": [
    "The output indicates that there are no duplicate rows in your DataFrame (df). This means that every row is unique across all columns, which is why duplicate_rows returns an empty DataFrame."
   ]
  },
  {
   "cell_type": "code",
   "execution_count": 230,
   "metadata": {},
   "outputs": [
    {
     "name": "stdout",
     "output_type": "stream",
     "text": [
      "       Unnamed: 0  amount_tsh date_recorded                  funder  \\\n",
      "6               6         0.0    2012-10-01                    Dwsp   \n",
      "7               7         0.0    2012-10-09                   Rwssp   \n",
      "8               8         0.0    2012-11-03                Wateraid   \n",
      "9               9         0.0    2011-08-03             Isingiro Ho   \n",
      "12             12         0.0    2012-10-14            World Vision   \n",
      "...           ...         ...           ...                     ...   \n",
      "56328       59384         0.0    2011-07-10                 Concern   \n",
      "56336       59392         0.0    2011-04-15  Government Of Tanzania   \n",
      "56337       59393         0.0    2012-10-27                 Private   \n",
      "56341       59397         0.0    2011-04-11  Government Of Tanzania   \n",
      "56342       59398         0.0    2011-03-08                   Malec   \n",
      "\n",
      "       gps_height            basin     region local_government_area  \\\n",
      "6               0         Internal  Shinyanga       Shinyanga Rural   \n",
      "7               0  Lake Tanganyika  Shinyanga                Kahama   \n",
      "8               0  Lake Tanganyika     Tabora          Tabora Urban   \n",
      "9               0    Lake Victoria     Kagera               Karagwe   \n",
      "12              0         Internal  Shinyanga                 Maswa   \n",
      "...           ...              ...        ...                   ...   \n",
      "56328           0    Lake Victoria     Kagera                 Ngara   \n",
      "56336           0       Lake Rukwa      Mbeya                Chunya   \n",
      "56337           0         Internal     Tabora                Igunga   \n",
      "56341           0           Rufiji      Mbeya               Mbarali   \n",
      "56342           0           Rufiji     Dodoma              Chamwino   \n",
      "\n",
      "       population  permit  ...  log_amount_tsh amount_tsh_binned  \\\n",
      "6               0    True  ...             0.0          Very Low   \n",
      "7               0    True  ...             0.0          Very Low   \n",
      "8               0    True  ...             0.0          Very Low   \n",
      "9               0    True  ...             0.0          Very Low   \n",
      "12              0   False  ...             0.0          Very Low   \n",
      "...           ...     ...  ...             ...               ...   \n",
      "56328           0   False  ...             0.0          Very Low   \n",
      "56336           0    True  ...             0.0          Very Low   \n",
      "56337           0   False  ...             0.0          Very Low   \n",
      "56341           0   False  ...             0.0          Very Low   \n",
      "56342           0    True  ...             0.0          Very Low   \n",
      "\n",
      "      amount_tsh_standardized log_gps_height gps_height_standardized  \\\n",
      "6                   -0.121572            0.0               -0.951288   \n",
      "7                   -0.121572            0.0               -0.951288   \n",
      "8                   -0.121572            0.0               -0.951288   \n",
      "9                   -0.121572            0.0               -0.951288   \n",
      "12                  -0.121572            0.0               -0.951288   \n",
      "...                       ...            ...                     ...   \n",
      "56328               -0.121572            0.0               -0.951288   \n",
      "56336               -0.121572            0.0               -0.951288   \n",
      "56337               -0.121572            0.0               -0.951288   \n",
      "56341               -0.121572            0.0               -0.951288   \n",
      "56342               -0.121572            0.0               -0.951288   \n",
      "\n",
      "      log_population population_binned population_standardized  \\\n",
      "6                0.0        Very Small               -0.386999   \n",
      "7                0.0        Very Small               -0.386999   \n",
      "8                0.0        Very Small               -0.386999   \n",
      "9                0.0        Very Small               -0.386999   \n",
      "12               0.0        Very Small               -0.386999   \n",
      "...              ...               ...                     ...   \n",
      "56328            0.0        Very Small               -0.386999   \n",
      "56336            0.0        Very Small               -0.386999   \n",
      "56337            0.0        Very Small               -0.386999   \n",
      "56341            0.0        Very Small               -0.386999   \n",
      "56342            0.0        Very Small               -0.386999   \n",
      "\n",
      "      amount_tsh_population gps_height_population  \n",
      "6                       0.0                     0  \n",
      "7                       0.0                     0  \n",
      "8                       0.0                     0  \n",
      "9                       0.0                     0  \n",
      "12                      0.0                     0  \n",
      "...                     ...                   ...  \n",
      "56328                   0.0                     0  \n",
      "56336                   0.0                     0  \n",
      "56337                   0.0                     0  \n",
      "56341                   0.0                     0  \n",
      "56342                   0.0                     0  \n",
      "\n",
      "[24631 rows x 39 columns]\n"
     ]
    }
   ],
   "source": [
    "# Identify near-duplicate rows based on specific columns\n",
    "near_duplicates = df[df.duplicated(subset=['amount_tsh', 'gps_height', 'population'])]\n",
    "\n",
    "# Display the near-duplicate rows\n",
    "print(near_duplicates)\n"
   ]
  },
  {
   "cell_type": "code",
   "execution_count": 231,
   "metadata": {},
   "outputs": [],
   "source": [
    "#df_cleaned = df.drop_duplicates(subset=['amount_tsh', 'gps_height', 'population'], keep='first')\n"
   ]
  },
  {
   "cell_type": "code",
   "execution_count": 232,
   "metadata": {},
   "outputs": [],
   "source": [
    "# Drop near-duplicate rows based on specific columns and keep the first occurrence\n",
    "#df_cleaned = df.drop_duplicates(subset=['amount_tsh', 'gps_height', 'population'], keep='first')\n",
    "\n",
    "# Display the cleaned DataFrame\n",
    "#print(df_cleaned.head())\n"
   ]
  },
  {
   "cell_type": "code",
   "execution_count": 233,
   "metadata": {},
   "outputs": [],
   "source": [
    "from sklearn.preprocessing import MinMaxScaler\n",
    "scaler = MinMaxScaler()\n",
    "df[numerical_cols] = scaler.fit_transform(df[numerical_cols])\n"
   ]
  },
  {
   "cell_type": "code",
   "execution_count": 234,
   "metadata": {},
   "outputs": [
    {
     "name": "stdout",
     "output_type": "stream",
     "text": [
      "0\n",
      "count    56344.000000\n",
      "mean         0.001289\n",
      "std          0.010599\n",
      "min          0.000000\n",
      "25%          0.000000\n",
      "50%          0.000000\n",
      "75%          0.000120\n",
      "max          1.000000\n",
      "Name: amount_tsh, dtype: float64\n"
     ]
    }
   ],
   "source": [
    "print(df['amount_tsh'].isnull().sum())  # Check for NaN values\n",
    "print(df['amount_tsh'].describe())  # Summary statistics of the column\n"
   ]
  },
  {
   "cell_type": "code",
   "execution_count": 235,
   "metadata": {},
   "outputs": [
    {
     "name": "stdout",
     "output_type": "stream",
     "text": [
      "[2.400e-02 0.000e+00 1.000e-04 8.000e-05 8.000e-04 2.000e-03 2.000e-04\n",
      " 1.600e-02 6.000e-03 2.400e-05 1.000e-03 4.000e-05 4.000e-03 4.000e-04\n",
      " 1.200e-04 8.000e-03 1.600e-03 4.800e-03 1.600e-04 1.200e-03 1.000e-01\n",
      " 3.000e-03 2.000e-02 2.400e-03 2.880e-02 9.600e-03 2.000e-05 1.440e-02\n",
      " 1.800e-03 1.600e-01 4.800e-02 1.200e-02 2.800e-05 8.000e-02 1.120e-02\n",
      " 8.800e-03 2.800e-04 2.200e-02 4.000e-02 1.000e-02 2.600e-02 2.200e-03\n",
      " 1.320e-04 3.200e-02 1.880e-02 2.800e-02 5.600e-02 5.200e-03 4.000e-01\n",
      " 2.800e-03 4.000e-06 2.400e-04 1.400e-03 8.000e-07 1.400e-04 1.224e-03\n",
      " 3.400e-02 4.680e-01 1.400e-02 2.080e-03 6.000e-05 2.520e-02 6.000e-04\n",
      " 5.520e-01 1.800e-02 5.200e-02 1.800e-01 8.000e-06 6.000e-02 4.400e-02\n",
      " 2.000e-01 3.000e-02 6.520e-02 3.200e-03 6.400e-02 1.200e-01 2.120e-04\n",
      " 2.160e-02 2.800e-01 1.000e+00 8.000e-01 1.040e-01 7.200e-02 1.040e-04\n",
      " 2.360e-03 3.600e-03 3.600e-05 5.600e-03 6.800e-01 8.800e-04 1.520e-01\n",
      " 1.000e-06 4.800e-05 2.400e-01 2.360e-04]\n"
     ]
    }
   ],
   "source": [
    "print(df['amount_tsh'].unique())\n"
   ]
  },
  {
   "cell_type": "code",
   "execution_count": 236,
   "metadata": {},
   "outputs": [
    {
     "name": "stdout",
     "output_type": "stream",
     "text": [
      "Classification Report:\n",
      "                precision    recall  f1-score   support\n",
      "\n",
      "    functional       0.70      0.86      0.77      6039\n",
      "non functional       0.78      0.59      0.67      5230\n",
      "\n",
      "      accuracy                           0.73     11269\n",
      "     macro avg       0.74      0.72      0.72     11269\n",
      "  weighted avg       0.74      0.73      0.72     11269\n",
      "\n"
     ]
    },
    {
     "data": {
      "image/png": "[encoded data removed]",
      "text/plain": [
       "<Figure size 800x600 with 2 Axes>"
      ]
     },
     "metadata": {},
     "output_type": "display_data"
    }
   ],
   "source": [
    "import pandas as pd\n",
    "import matplotlib.pyplot as plt\n",
    "import seaborn as sns\n",
    "from sklearn.pipeline import Pipeline, FeatureUnion\n",
    "from sklearn.compose import ColumnTransformer\n",
    "from sklearn.preprocessing import OneHotEncoder, StandardScaler, PolynomialFeatures\n",
    "from sklearn.impute import SimpleImputer\n",
    "from sklearn.linear_model import LogisticRegression\n",
    "from sklearn.metrics import classification_report, confusion_matrix\n",
    "from sklearn.model_selection import train_test_split\n",
    "from sklearn.base import BaseEstimator, TransformerMixin\n",
    "\n",
    "# Load your data into a DataFrame\n",
    "df = pd.read_csv('./Data/clean_data.csv')\n",
    "\n",
    "# Split your data into features and target variable\n",
    "X = df.drop('status_group', axis=1)  # Replace 'status_group' with the name of your target variable\n",
    "y = df['status_group']  # Target variable\n",
    "\n",
    "# Splitting the data into training and test sets\n",
    "X_train, X_test, y_train, y_test = train_test_split(X, y, test_size=0.2, random_state=42)\n",
    "\n",
    "# Custom transformer to create domain-specific features\n",
    "class DomainSpecificFeatures(BaseEstimator, TransformerMixin):\n",
    "    def __init__(self):\n",
    "        pass\n",
    "    \n",
    "    def fit(self, X, y=None):\n",
    "        return self\n",
    "    \n",
    "    def transform(self, X):\n",
    "        # Create interaction feature\n",
    "        X['amount_tsh_gps_height'] = X['amount_tsh'] * X['gps_height']\n",
    "        \n",
    "        # Flagging unusually high values for amount_tsh\n",
    "        X['high_amount_tsh'] = (X['amount_tsh'] > 1000).astype(int)\n",
    "        \n",
    "        return X[['amount_tsh_gps_height', 'high_amount_tsh']]\n",
    "\n",
    "# Define preprocessing for numerical data (imputation + polynomial features + scaling)\n",
    "numerical_transformer = Pipeline(steps=[\n",
    "    ('imputer', SimpleImputer(strategy='mean')),\n",
    "    ('poly', PolynomialFeatures(degree=2, include_bias=False)),  # Adding polynomial features\n",
    "    ('scaler', StandardScaler())\n",
    "])\n",
    "\n",
    "# Define preprocessing for categorical data (imputation + one-hot encoding)\n",
    "categorical_transformer = Pipeline(steps=[\n",
    "    ('imputer', SimpleImputer(strategy='most_frequent')),\n",
    "    ('onehot', OneHotEncoder(handle_unknown='ignore'))\n",
    "])\n",
    "\n",
    "# Combine preprocessing for numerical and categorical data with domain-specific features\n",
    "preprocessor = ColumnTransformer(\n",
    "    transformers=[\n",
    "        ('num', numerical_transformer, numerical_cols),\n",
    "        ('cat', categorical_transformer, categorical_cols),\n",
    "        ('domain', DomainSpecificFeatures(), numerical_cols)\n",
    "    ])\n",
    "\n",
    "# Create the logistic regression pipeline\n",
    "logreg_pipeline = Pipeline(steps=[\n",
    "    ('preprocessor', preprocessor),\n",
    "    ('classifier', LogisticRegression(max_iter=1000, random_state=42))\n",
    "])\n",
    "\n",
    "# Fit the pipeline to the training data\n",
    "logreg_pipeline.fit(X_train, y_train)\n",
    "\n",
    "# Make predictions on the test data\n",
    "y_pred = logreg_pipeline.predict(X_test)\n",
    "\n",
    "# Generate and print the classification report\n",
    "print(\"Classification Report:\")\n",
    "print(classification_report(y_test, y_pred))\n",
    "\n",
    "# Generate the confusion matrix\n",
    "cm = confusion_matrix(y_test, y_pred)\n",
    "\n",
    "# Plot the confusion matrix with a colored heatmap\n",
    "plt.figure(figsize=(8, 6))\n",
    "sns.heatmap(cm, annot=True, fmt='d', cmap='viridis', xticklabels=logreg_pipeline.classes_, yticklabels=logreg_pipeline.classes_)\n",
    "plt.xlabel('Predicted')\n",
    "plt.ylabel('Actual')\n",
    "plt.title('Confusion Matrix')\n",
    "plt.show()\n"
   ]
  },
  {
   "cell_type": "markdown",
   "metadata": {},
   "source": [
    "The classification report evaluates the performance of a model distinguishing between \"functional\" and \"non functional\" classes. Here's a summary:\n",
    "\n",
    "Functional Class: The model has a good recall (0.86) and a decent precision (0.70), meaning it correctly identifies most functional samples but has some false positives.\n",
    "\n",
    "Non-functional Class: The model has higher precision (0.78) but lower recall (0.59), indicating it correctly identifies non-functional samples when predicted but misses many actual non-functional samples.\n",
    "\n",
    "Overall Accuracy: The model correctly classifies 73% of all samples.\n",
    "\n",
    "Balanced Performance: The weighted and macro averages show that the model has a slightly better overall precision and recall for the \"functional\" class, but struggles more with identifying \"non functional\" cases."
   ]
  },
  {
   "cell_type": "markdown",
   "metadata": {},
   "source": [
    "The drop in classifier performance from 0.78 to 0.73 was likely due to:\n",
    "\n",
    "Feature Engineering: Removing or altering features may have removed important information or introduced noise.\n",
    "Model Adjustments: Changes in model complexity or hyperparameters could have led to reduced effectiveness.\n",
    "In essence, modifications during feature engineering and model tuning likely caused the decline in performance."
   ]
  },
  {
   "cell_type": "code",
   "execution_count": 237,
   "metadata": {},
   "outputs": [
    {
     "name": "stdout",
     "output_type": "stream",
     "text": [
      "Best parameters found:  {'classifier__C': 1, 'classifier__penalty': 'l1', 'classifier__solver': 'liblinear'}\n",
      "Best cross-validation score:  0.7469107043815864\n"
     ]
    }
   ],
   "source": [
    "from sklearn.model_selection import GridSearchCV\n",
    "\n",
    "# Define the parameter grid for logistic regression\n",
    "param_grid = {\n",
    "    'classifier__C': [0.01, 0.1, 1, 10, 100],  # Regularization strength\n",
    "    'classifier__penalty': ['l1', 'l2'],       # Norm used in penalization\n",
    "    'classifier__solver': ['liblinear']        # Solver algorithm\n",
    "}\n",
    "\n",
    "# Create a GridSearchCV object with 5-fold cross-validation\n",
    "grid_search = GridSearchCV(logreg_pipeline, param_grid, cv=5, scoring='accuracy')\n",
    "\n",
    "# Fit the GridSearchCV object to the training data\n",
    "grid_search.fit(X_train, y_train)\n",
    "\n",
    "# Output the best parameters and the best score found by GridSearchCV\n",
    "print(\"Best parameters found: \", grid_search.best_params_)\n",
    "print(\"Best cross-validation score: \", grid_search.best_score_)\n"
   ]
  },
  {
   "cell_type": "markdown",
   "metadata": {},
   "source": [
    "In conclusion, the findings suggest several important considerations for stakeholders when planning the construction and maintenance of wells in Tanzania. The Dodoma region has a higher number of non-functional wells compared to functional ones, indicating a need for careful assessment and investigation into the causes and potential solutions before building new wells. Data analysis shows that wells with operating permits tend to remain functional longer than those without permits, highlighting the importance of regulatory compliance. Furthermore, wells that are not associated with any payment plan often become inoperable due to public misuse; therefore, implementing a reasonable payment plan could help maintain well functionality. To ensure sustainable water access, stakeholders should focus on regions with higher failure rates, verify that all wells have the necessary permits, and consider the establishment of payment plans to enhance the viability of the wells."
   ]
  },
  {
   "cell_type": "markdown",
   "metadata": {},
   "source": [
    "1.Regular Maintenance and Repairs: To ensure continuous access to water, it is crucial to implement a robust maintenance schedule for functional wells and promptly repair those classified as needing repair or non-functional. Predictive maintenance, using insights from data analysis, can help optimize resource allocation and minimize pump downtime.\n",
    "\n",
    "2.Improved Data Collection and Management: Enhance data collection practices to include more accurate and up-to-date information on well status, location, and usage. This will help in better decision-making and resource distribution for maintenance and repairs.\n",
    "\n",
    "3.Community Involvement and Training: Engage local communities in the maintenance and management of water points. Training local users and managers can lead to quicker identification and reporting of issues, promoting sustainability and ownership.\n",
    "\n",
    "4.Use of Advanced Machine Learning Models: The project should consider using advanced machine learning models like Random Forest or Gradient Boosting for better predictive accuracy regarding well functionality. Hyperparameter tuning, as done with GridSearchCV in the study, can further improve model performance."
   ]
  }
 ],
 "metadata": {
  "kernelspec": {
   "display_name": "Python 3",
   "language": "python",
   "name": "python3"
  },
  "language_info": {
   "codemirror_mode": {
    "name": "ipython",
    "version": 3
   },
   "file_extension": ".py",
   "mimetype": "text/x-python",
   "name": "python",
   "nbconvert_exporter": "python",
   "pygments_lexer": "ipython3",
   "version": "3.12.4"
  }
 },
 "nbformat": 4,
 "nbformat_minor": 2
}
