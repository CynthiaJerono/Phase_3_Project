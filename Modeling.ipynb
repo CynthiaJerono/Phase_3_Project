{
 "cells": [
  {
   "attachments": {},
   "cell_type": "markdown",
   "metadata": {},
   "source": [
    "# Modeling"
   ]
  },
  {
   "cell_type": "code",
   "execution_count": 248,
   "metadata": {},
   "outputs": [],
   "source": [
    "# importing necessary libraries\n",
    "import pandas as pd\n",
    "import matplotlib.pyplot as plt\n",
    "import seaborn as sns; sns.set()\n",
    "%matplotlib inline\n",
    "\n",
    "import pandas as pd\n",
    "import numpy as np\n",
    "\n",
    "from sklearn.tree import DecisionTreeClassifier\n",
    "from sklearn.ensemble import RandomForestClassifier, AdaBoostClassifier\n",
    "from sklearn.dummy import DummyClassifier\n",
    "from sklearn.svm import SVC\n",
    "from sklearn.neighbors import KNeighborsClassifier\n",
    "from sklearn.preprocessing import StandardScaler\n",
    "from sklearn.model_selection import cross_val_score\n",
    "from sklearn.model_selection import cross_validate\n",
    "from sklearn.preprocessing import LabelEncoder\n",
    "from sklearn.pipeline import Pipeline\n",
    "\n",
    "from sklearn.model_selection import GridSearchCV, train_test_split\n",
    "from sklearn.metrics import roc_auc_score\n",
    "from sklearn.metrics import accuracy_score, precision_score, recall_score, f1_score\n",
    "\n",
    "from sklearn.metrics import confusion_matrix, classification_report\n",
    "from sklearn.model_selection import train_test_split, GridSearchCV\n",
    "\n",
    "import warnings\n",
    "warnings.filterwarnings(\"ignore\")"
   ]
  },
  {
   "cell_type": "code",
   "execution_count": 249,
   "metadata": {},
   "outputs": [
    {
     "data": {
      "text/html": [
       "<div>\n",
       "<style scoped>\n",
       "    .dataframe tbody tr th:only-of-type {\n",
       "        vertical-align: middle;\n",
       "    }\n",
       "\n",
       "    .dataframe tbody tr th {\n",
       "        vertical-align: top;\n",
       "    }\n",
       "\n",
       "    .dataframe thead th {\n",
       "        text-align: right;\n",
       "    }\n",
       "</style>\n",
       "<table border=\"1\" class=\"dataframe\">\n",
       "  <thead>\n",
       "    <tr style=\"text-align: right;\">\n",
       "      <th></th>\n",
       "      <th>amount_tsh</th>\n",
       "      <th>date_recorded</th>\n",
       "      <th>funder</th>\n",
       "      <th>gps_height</th>\n",
       "      <th>basin</th>\n",
       "      <th>region</th>\n",
       "      <th>local_government_area</th>\n",
       "      <th>population</th>\n",
       "      <th>permit</th>\n",
       "      <th>construction_year</th>\n",
       "      <th>extraction_type_class</th>\n",
       "      <th>management_group</th>\n",
       "      <th>payment_type</th>\n",
       "      <th>water_quality</th>\n",
       "      <th>quantity</th>\n",
       "      <th>source_type</th>\n",
       "      <th>waterpoint_type</th>\n",
       "      <th>status_group</th>\n",
       "      <th>construction_decade</th>\n",
       "    </tr>\n",
       "  </thead>\n",
       "  <tbody>\n",
       "    <tr>\n",
       "      <th>0</th>\n",
       "      <td>6000.0</td>\n",
       "      <td>2011-03-14</td>\n",
       "      <td>Roman</td>\n",
       "      <td>1390</td>\n",
       "      <td>Lake Nyasa</td>\n",
       "      <td>Iringa</td>\n",
       "      <td>Ludewa</td>\n",
       "      <td>109</td>\n",
       "      <td>False</td>\n",
       "      <td>1999</td>\n",
       "      <td>gravity</td>\n",
       "      <td>user-group</td>\n",
       "      <td>annually</td>\n",
       "      <td>soft</td>\n",
       "      <td>enough</td>\n",
       "      <td>spring</td>\n",
       "      <td>communal standpipe</td>\n",
       "      <td>functional</td>\n",
       "      <td>1990s (1990-1999)</td>\n",
       "    </tr>\n",
       "    <tr>\n",
       "      <th>1</th>\n",
       "      <td>0.0</td>\n",
       "      <td>2013-03-06</td>\n",
       "      <td>Grumeti</td>\n",
       "      <td>1399</td>\n",
       "      <td>Lake Victoria</td>\n",
       "      <td>Mara</td>\n",
       "      <td>Serengeti</td>\n",
       "      <td>280</td>\n",
       "      <td>True</td>\n",
       "      <td>2010</td>\n",
       "      <td>gravity</td>\n",
       "      <td>user-group</td>\n",
       "      <td>never pay</td>\n",
       "      <td>soft</td>\n",
       "      <td>insufficient</td>\n",
       "      <td>rainwater harvesting</td>\n",
       "      <td>communal standpipe</td>\n",
       "      <td>functional</td>\n",
       "      <td>2000s (2000-2009)</td>\n",
       "    </tr>\n",
       "    <tr>\n",
       "      <th>2</th>\n",
       "      <td>25.0</td>\n",
       "      <td>2013-02-25</td>\n",
       "      <td>Lottery Club</td>\n",
       "      <td>686</td>\n",
       "      <td>Pangani</td>\n",
       "      <td>Manyara</td>\n",
       "      <td>Simanjiro</td>\n",
       "      <td>250</td>\n",
       "      <td>True</td>\n",
       "      <td>2009</td>\n",
       "      <td>gravity</td>\n",
       "      <td>user-group</td>\n",
       "      <td>per bucket</td>\n",
       "      <td>soft</td>\n",
       "      <td>enough</td>\n",
       "      <td>dam</td>\n",
       "      <td>communal standpipe multiple</td>\n",
       "      <td>functional</td>\n",
       "      <td>2000s (2000-2009)</td>\n",
       "    </tr>\n",
       "    <tr>\n",
       "      <th>3</th>\n",
       "      <td>0.0</td>\n",
       "      <td>2013-01-28</td>\n",
       "      <td>Unicef</td>\n",
       "      <td>263</td>\n",
       "      <td>Ruvuma / Southern Coast</td>\n",
       "      <td>Mtwara</td>\n",
       "      <td>Nanyumbu</td>\n",
       "      <td>58</td>\n",
       "      <td>True</td>\n",
       "      <td>1986</td>\n",
       "      <td>submersible</td>\n",
       "      <td>user-group</td>\n",
       "      <td>never pay</td>\n",
       "      <td>soft</td>\n",
       "      <td>dry</td>\n",
       "      <td>borehole</td>\n",
       "      <td>communal standpipe multiple</td>\n",
       "      <td>non functional</td>\n",
       "      <td>1980s (1980-1989)</td>\n",
       "    </tr>\n",
       "    <tr>\n",
       "      <th>4</th>\n",
       "      <td>0.0</td>\n",
       "      <td>2011-07-13</td>\n",
       "      <td>Action In A</td>\n",
       "      <td>0</td>\n",
       "      <td>Lake Victoria</td>\n",
       "      <td>Kagera</td>\n",
       "      <td>Karagwe</td>\n",
       "      <td>0</td>\n",
       "      <td>True</td>\n",
       "      <td>0</td>\n",
       "      <td>gravity</td>\n",
       "      <td>other</td>\n",
       "      <td>never pay</td>\n",
       "      <td>soft</td>\n",
       "      <td>seasonal</td>\n",
       "      <td>rainwater harvesting</td>\n",
       "      <td>communal standpipe</td>\n",
       "      <td>functional</td>\n",
       "      <td>Unknown</td>\n",
       "    </tr>\n",
       "  </tbody>\n",
       "</table>\n",
       "</div>"
      ],
      "text/plain": [
       "   amount_tsh date_recorded        funder  gps_height  \\\n",
       "0      6000.0    2011-03-14         Roman        1390   \n",
       "1         0.0    2013-03-06       Grumeti        1399   \n",
       "2        25.0    2013-02-25  Lottery Club         686   \n",
       "3         0.0    2013-01-28        Unicef         263   \n",
       "4         0.0    2011-07-13   Action In A           0   \n",
       "\n",
       "                     basin   region local_government_area  population  permit  \\\n",
       "0               Lake Nyasa   Iringa                Ludewa         109   False   \n",
       "1            Lake Victoria     Mara             Serengeti         280    True   \n",
       "2                  Pangani  Manyara             Simanjiro         250    True   \n",
       "3  Ruvuma / Southern Coast   Mtwara              Nanyumbu          58    True   \n",
       "4            Lake Victoria   Kagera               Karagwe           0    True   \n",
       "\n",
       "   construction_year extraction_type_class management_group payment_type  \\\n",
       "0               1999               gravity       user-group     annually   \n",
       "1               2010               gravity       user-group    never pay   \n",
       "2               2009               gravity       user-group   per bucket   \n",
       "3               1986           submersible       user-group    never pay   \n",
       "4                  0               gravity            other    never pay   \n",
       "\n",
       "  water_quality      quantity           source_type  \\\n",
       "0          soft        enough                spring   \n",
       "1          soft  insufficient  rainwater harvesting   \n",
       "2          soft        enough                   dam   \n",
       "3          soft           dry              borehole   \n",
       "4          soft      seasonal  rainwater harvesting   \n",
       "\n",
       "               waterpoint_type    status_group construction_decade  \n",
       "0           communal standpipe      functional   1990s (1990-1999)  \n",
       "1           communal standpipe      functional   2000s (2000-2009)  \n",
       "2  communal standpipe multiple      functional   2000s (2000-2009)  \n",
       "3  communal standpipe multiple  non functional   1980s (1980-1989)  \n",
       "4           communal standpipe      functional             Unknown  "
      ]
     },
     "execution_count": 249,
     "metadata": {},
     "output_type": "execute_result"
    }
   ],
   "source": [
    "df_model = pd.read_csv('./Data/clean_data.csv', index_col=0)\n",
    "df_model.head()"
   ]
  },
  {
   "cell_type": "code",
   "execution_count": 250,
   "metadata": {},
   "outputs": [],
   "source": [
    "categorical_cols = ['region', 'extraction_type_class', 'management_group', 'funder',\n",
    "                    'quantity', 'water_quality' , 'waterpoint_type', 'source_type', 'status_group' ]"
   ]
  },
  {
   "cell_type": "code",
   "execution_count": 251,
   "metadata": {},
   "outputs": [],
   "source": [
    "numerical_cols = ['amount_tsh','gps_height', 'population']"
   ]
  },
  {
   "cell_type": "code",
   "execution_count": 252,
   "metadata": {},
   "outputs": [],
   "source": [
    "df_model.drop(['date_recorded', 'construction_year', 'basin', 'local_government_area', \n",
    "                     'payment_type', 'permit', 'construction_decade'], axis=1, inplace=True)\n",
    "#to be dropped before one hot encoding"
   ]
  },
  {
   "cell_type": "code",
   "execution_count": 253,
   "metadata": {},
   "outputs": [],
   "source": [
    "# Create an instance of LabelEncoder\n",
    "encoder = LabelEncoder()\n",
    "\n",
    "# Encode the categorical columns in the DataFrame\n",
    "for col in categorical_cols:\n",
    "    df_model[col] = encoder.fit_transform(df_model[col])\n",
    "\n",
    "# covert categorical columns to integer\n",
    "for col in categorical_cols:\n",
    "    df_model[col] = df_model[col].astype(int)"
   ]
  },
  {
   "cell_type": "code",
   "execution_count": 254,
   "metadata": {},
   "outputs": [],
   "source": [
    "#from category_encoders import OneHotEncoder\n",
    "#ohe = OneHotEncoder(cols = categorical_cols)"
   ]
  },
  {
   "cell_type": "code",
   "execution_count": 255,
   "metadata": {},
   "outputs": [],
   "source": [
    "#df_model = ohe.fit_transform(df_model)"
   ]
  },
  {
   "cell_type": "code",
   "execution_count": 256,
   "metadata": {},
   "outputs": [
    {
     "data": {
      "text/html": [
       "<div>\n",
       "<style scoped>\n",
       "    .dataframe tbody tr th:only-of-type {\n",
       "        vertical-align: middle;\n",
       "    }\n",
       "\n",
       "    .dataframe tbody tr th {\n",
       "        vertical-align: top;\n",
       "    }\n",
       "\n",
       "    .dataframe thead th {\n",
       "        text-align: right;\n",
       "    }\n",
       "</style>\n",
       "<table border=\"1\" class=\"dataframe\">\n",
       "  <thead>\n",
       "    <tr style=\"text-align: right;\">\n",
       "      <th></th>\n",
       "      <th>amount_tsh</th>\n",
       "      <th>funder</th>\n",
       "      <th>gps_height</th>\n",
       "      <th>region</th>\n",
       "      <th>population</th>\n",
       "      <th>extraction_type_class</th>\n",
       "      <th>management_group</th>\n",
       "      <th>water_quality</th>\n",
       "      <th>quantity</th>\n",
       "      <th>source_type</th>\n",
       "      <th>waterpoint_type</th>\n",
       "      <th>status_group</th>\n",
       "    </tr>\n",
       "  </thead>\n",
       "  <tbody>\n",
       "    <tr>\n",
       "      <th>0</th>\n",
       "      <td>6000.0</td>\n",
       "      <td>1319</td>\n",
       "      <td>1390</td>\n",
       "      <td>3</td>\n",
       "      <td>109</td>\n",
       "      <td>0</td>\n",
       "      <td>4</td>\n",
       "      <td>6</td>\n",
       "      <td>1</td>\n",
       "      <td>6</td>\n",
       "      <td>1</td>\n",
       "      <td>0</td>\n",
       "    </tr>\n",
       "    <tr>\n",
       "      <th>1</th>\n",
       "      <td>0.0</td>\n",
       "      <td>457</td>\n",
       "      <td>1399</td>\n",
       "      <td>9</td>\n",
       "      <td>280</td>\n",
       "      <td>0</td>\n",
       "      <td>4</td>\n",
       "      <td>6</td>\n",
       "      <td>2</td>\n",
       "      <td>3</td>\n",
       "      <td>1</td>\n",
       "      <td>0</td>\n",
       "    </tr>\n",
       "    <tr>\n",
       "      <th>2</th>\n",
       "      <td>25.0</td>\n",
       "      <td>803</td>\n",
       "      <td>686</td>\n",
       "      <td>8</td>\n",
       "      <td>250</td>\n",
       "      <td>0</td>\n",
       "      <td>4</td>\n",
       "      <td>6</td>\n",
       "      <td>1</td>\n",
       "      <td>1</td>\n",
       "      <td>2</td>\n",
       "      <td>0</td>\n",
       "    </tr>\n",
       "    <tr>\n",
       "      <th>3</th>\n",
       "      <td>0.0</td>\n",
       "      <td>1681</td>\n",
       "      <td>263</td>\n",
       "      <td>12</td>\n",
       "      <td>58</td>\n",
       "      <td>5</td>\n",
       "      <td>4</td>\n",
       "      <td>6</td>\n",
       "      <td>0</td>\n",
       "      <td>0</td>\n",
       "      <td>2</td>\n",
       "      <td>1</td>\n",
       "    </tr>\n",
       "    <tr>\n",
       "      <th>4</th>\n",
       "      <td>0.0</td>\n",
       "      <td>18</td>\n",
       "      <td>0</td>\n",
       "      <td>4</td>\n",
       "      <td>0</td>\n",
       "      <td>0</td>\n",
       "      <td>1</td>\n",
       "      <td>6</td>\n",
       "      <td>3</td>\n",
       "      <td>3</td>\n",
       "      <td>1</td>\n",
       "      <td>0</td>\n",
       "    </tr>\n",
       "  </tbody>\n",
       "</table>\n",
       "</div>"
      ],
      "text/plain": [
       "   amount_tsh  funder  gps_height  region  population  extraction_type_class  \\\n",
       "0      6000.0    1319        1390       3         109                      0   \n",
       "1         0.0     457        1399       9         280                      0   \n",
       "2        25.0     803         686       8         250                      0   \n",
       "3         0.0    1681         263      12          58                      5   \n",
       "4         0.0      18           0       4           0                      0   \n",
       "\n",
       "   management_group  water_quality  quantity  source_type  waterpoint_type  \\\n",
       "0                 4              6         1            6                1   \n",
       "1                 4              6         2            3                1   \n",
       "2                 4              6         1            1                2   \n",
       "3                 4              6         0            0                2   \n",
       "4                 1              6         3            3                1   \n",
       "\n",
       "   status_group  \n",
       "0             0  \n",
       "1             0  \n",
       "2             0  \n",
       "3             1  \n",
       "4             0  "
      ]
     },
     "execution_count": 256,
     "metadata": {},
     "output_type": "execute_result"
    }
   ],
   "source": [
    "df_model.head()"
   ]
  },
  {
   "cell_type": "code",
   "execution_count": 257,
   "metadata": {},
   "outputs": [],
   "source": [
    "# split the dataset\n",
    "X = df_model.drop('status_group', axis=1)\n",
    "y = df_model['status_group']\n",
    "\n",
    "X_train, X_test, y_train, y_test = train_test_split(X, y, test_size=0.25, random_state=42)"
   ]
  },
  {
   "cell_type": "code",
   "execution_count": 258,
   "metadata": {},
   "outputs": [
    {
     "name": "stdout",
     "output_type": "stream",
     "text": [
      "<class 'pandas.core.frame.DataFrame'>\n",
      "Index: 56344 entries, 0 to 59399\n",
      "Data columns (total 11 columns):\n",
      " #   Column                 Non-Null Count  Dtype  \n",
      "---  ------                 --------------  -----  \n",
      " 0   amount_tsh             56344 non-null  float64\n",
      " 1   funder                 56344 non-null  int32  \n",
      " 2   gps_height             56344 non-null  int64  \n",
      " 3   region                 56344 non-null  int32  \n",
      " 4   population             56344 non-null  int64  \n",
      " 5   extraction_type_class  56344 non-null  int32  \n",
      " 6   management_group       56344 non-null  int32  \n",
      " 7   water_quality          56344 non-null  int32  \n",
      " 8   quantity               56344 non-null  int32  \n",
      " 9   source_type            56344 non-null  int32  \n",
      " 10  waterpoint_type        56344 non-null  int32  \n",
      "dtypes: float64(1), int32(8), int64(2)\n",
      "memory usage: 3.4 MB\n"
     ]
    }
   ],
   "source": [
    "X.info()"
   ]
  },
  {
   "attachments": {},
   "cell_type": "markdown",
   "metadata": {},
   "source": [
    "## Models"
   ]
  },
  {
   "attachments": {},
   "cell_type": "markdown",
   "metadata": {},
   "source": [
    "My data is now ready to be modeled. To begin, we will fit a dummy cllassifier model as my baseline model and analyze its performance indicators. Following that, I will fit several more classification models and evaluate their performance measures.\n",
    "\n",
    "I will choose the two best-performing models from the four models based on accuracy. The remaining two models will subsequently be tuned with ensemble methods.\n"
   ]
  },
  {
   "attachments": {},
   "cell_type": "markdown",
   "metadata": {},
   "source": [
    "### 1. Dummy Classifier - Baseline model"
   ]
  },
  {
   "attachments": {},
   "cell_type": "markdown",
   "metadata": {},
   "source": [
    "> DummyClassifier makes predictions that ignore the input features. This classifier serves as a simple baseline to compare against other more complex classifiers."
   ]
  },
  {
   "attachments": {},
   "cell_type": "markdown",
   "metadata": {},
   "source": [
    "- In terms of accuracy, the dummy classifier achieves an accuracy of 0.53, meaning that it correctly predicts the class for around 53% of the instances.\n",
    "\n",
    "- Overall, these results indicate that the dummy classifier performs poorly in predicting class 1, as it never correctly identifies any instances of that class. It performs better in predicting class 0, achieving a reasonable precision and recall."
   ]
  },
  {
   "cell_type": "code",
   "execution_count": 259,
   "metadata": {},
   "outputs": [
    {
     "name": "stdout",
     "output_type": "stream",
     "text": [
      "Classification Report:\n",
      "              precision    recall  f1-score   support\n",
      "\n",
      "           0       0.53      1.00      0.70      7534\n",
      "           1       0.00      0.00      0.00      6552\n",
      "\n",
      "    accuracy                           0.53     14086\n",
      "   macro avg       0.27      0.50      0.35     14086\n",
      "weighted avg       0.29      0.53      0.37     14086\n",
      "\n"
     ]
    }
   ],
   "source": [
    "#Build a pipeline with a StandardScaler and a DummyClassifier\n",
    "dummy_pipe = Pipeline([('scaler', StandardScaler()), \n",
    "                ('dummy', DummyClassifier(random_state=42))])\n",
    "# fit the pipeline to the training set\n",
    "dummy_pipe.fit(X_train, y_train)\n",
    "# make predictions on the test set\n",
    "y_pred_dummy = dummy_pipe.predict(X_test)\n",
    "# Generate and print the classification report\n",
    "print(\"Classification Report:\")\n",
    "print(classification_report(y_test, y_pred_dummy))"
   ]
  },
  {
   "cell_type": "code",
   "execution_count": 260,
   "metadata": {},
   "outputs": [
    {
     "data": {
      "image/png": "[encoded data removed]",
      "text/plain": [
       "<Figure size 500x500 with 2 Axes>"
      ]
     },
     "metadata": {},
     "output_type": "display_data"
    }
   ],
   "source": [
    "# Plot the confusion matrix without a color palette\n",
    "plt.figure(figsize=(5, 5))\n",
    "sns.heatmap(confusion_matrix(y_test, y_pred_dummy), annot=True, fmt='g')\n",
    "\n",
    "# Show the plot\n",
    "plt.show()"
   ]
  },
  {
   "cell_type": "markdown",
   "metadata": {},
   "source": [
    "This is really low lets move to the next Classifier"
   ]
  },
  {
   "cell_type": "markdown",
   "metadata": {},
   "source": [
    "### 2. Decision Tree Classifier"
   ]
  },
  {
   "cell_type": "markdown",
   "metadata": {},
   "source": [
    "> Decision Tree is a Supervised learning technique that can be used for both classification and Regression problems, but mostly it is preferred for solving Classification problems. The intuition behind Decision Trees is that you use the dataset features to create yes/no questions and continually split the dataset until you isolate all data points belonging to each class."
   ]
  },
  {
   "cell_type": "code",
   "execution_count": 261,
   "metadata": {},
   "outputs": [
    {
     "name": "stdout",
     "output_type": "stream",
     "text": [
      "Classification Report:\n",
      "              precision    recall  f1-score   support\n",
      "\n",
      "           0       0.77      0.81      0.79      7534\n",
      "           1       0.77      0.72      0.74      6552\n",
      "\n",
      "    accuracy                           0.77     14086\n",
      "   macro avg       0.77      0.77      0.77     14086\n",
      "weighted avg       0.77      0.77      0.77     14086\n",
      "\n"
     ]
    }
   ],
   "source": [
    "# Create a pipeline with a decision tree classifier as the estimator:\n",
    "dt = Pipeline([('scaler', StandardScaler()),\n",
    "                  ('tree', DecisionTreeClassifier(random_state=42))])\n",
    "# fit the pipeline to the training set\n",
    "dt.fit(X_train, y_train)\n",
    "# make predictions on the test set\n",
    "y_pred_dt = dt.predict(X_test)\n",
    "\n",
    "# Generate and print the classification report\n",
    "print(\"Classification Report:\")\n",
    "print(classification_report(y_test, y_pred_dt))\n"
   ]
  },
  {
   "cell_type": "code",
   "execution_count": 262,
   "metadata": {},
   "outputs": [
    {
     "data": {
      "image/png": "[encoded data removed]",
      "text/plain": [
       "<Figure size 500x500 with 2 Axes>"
      ]
     },
     "metadata": {},
     "output_type": "display_data"
    }
   ],
   "source": [
    "# Define a custom color palette\n",
    "color_palette = sns.color_palette(\"Blues\")\n",
    "# plot the confusion matrix\n",
    "plt.figure(figsize=(5,5))\n",
    "sns.heatmap(confusion_matrix(y_test, y_pred_dt), annot=True, fmt='g', cmap=color_palette);"
   ]
  },
  {
   "cell_type": "markdown",
   "metadata": {},
   "source": [
    "- The accuracy score represents the proportion of correctly predicted instances out of the total number of instances. In this case, the decision tree model achieved an accuracy of around 0.75, indicating that it predicted 75% of instances correctly."
   ]
  },
  {
   "cell_type": "markdown",
   "metadata": {},
   "source": [
    "### 3. Decision Tree with GridsearchCV"
   ]
  },
  {
   "cell_type": "code",
   "execution_count": 264,
   "metadata": {},
   "outputs": [
    {
     "name": "stdout",
     "output_type": "stream",
     "text": [
      "Fitting 5 folds for each of 54 candidates, totalling 270 fits\n",
      "Best Parameters: {'tree__criterion': 'gini', 'tree__max_depth': 20, 'tree__min_samples_leaf': 4, 'tree__min_samples_split': 4}\n",
      "Classification Report:\n",
      "              precision    recall  f1-score   support\n",
      "\n",
      "           0       0.76      0.85      0.80      7534\n",
      "           1       0.80      0.69      0.74      6552\n",
      "\n",
      "    accuracy                           0.78     14086\n",
      "   macro avg       0.78      0.77      0.77     14086\n",
      "weighted avg       0.78      0.78      0.78     14086\n",
      "\n"
     ]
    }
   ],
   "source": [
    "dt = Pipeline([('scaler', StandardScaler()),\n",
    "                  ('tree', DecisionTreeClassifier(random_state=42))])\n",
    "# create a grid of parameters to test\n",
    "\n",
    "param_grid = [{'tree__max_depth': [16, 18, 20],\n",
    "              'tree__min_samples_split': [4, 6, 8],\n",
    "              'tree__min_samples_leaf': [2, 3, 4],\n",
    "              'tree__criterion': ['gini', 'entropy']}]\n",
    "\n",
    "# create grid with estimators\n",
    "gridsearch_dt = GridSearchCV(dt, param_grid, cv=5, n_jobs=-1, verbose=1)\n",
    "\n",
    "# fit the grid with the data    \n",
    "gridsearch_dt.fit(X_train, y_train);\n",
    "\n",
    "# Get the best parameters\n",
    "best_params_dt = gridsearch_dt.best_params_\n",
    "\n",
    "print(\"Best Parameters:\", best_params_dt)\n",
    "# Make predictions on the test data using the trained pipeline\n",
    "y_pred_gridsearchdt = gridsearch_dt.predict(X_test)\n",
    "\n",
    "# Generate and print the classification report\n",
    "print(\"Classification Report:\")\n",
    "print(classification_report(y_test, y_pred_gridsearchdt))"
   ]
  },
  {
   "cell_type": "code",
   "execution_count": 265,
   "metadata": {},
   "outputs": [
    {
     "data": {
      "image/png": "[encoded data removed]",
      "text/plain": [
       "<Figure size 500x500 with 2 Axes>"
      ]
     },
     "metadata": {},
     "output_type": "display_data"
    }
   ],
   "source": [
    "# plot the confusion matrix\n",
    "plt.figure(figsize=(5,5))\n",
    "sns.heatmap(confusion_matrix(y_test, y_pred_gridsearchdt), annot=True, fmt='g');"
   ]
  },
  {
   "cell_type": "markdown",
   "metadata": {},
   "source": [
    "#Logistic regression"
   ]
  },
  {
   "cell_type": "code",
   "execution_count": 263,
   "metadata": {},
   "outputs": [
    {
     "ename": "SyntaxError",
     "evalue": "unmatched ']' (1742588137.py, line 8)",
     "output_type": "error",
     "traceback": [
      "\u001b[1;36m  Cell \u001b[1;32mIn[263], line 8\u001b[1;36m\u001b[0m\n\u001b[1;33m    ])\u001b[0m\n\u001b[1;37m    ^\u001b[0m\n\u001b[1;31mSyntaxError\u001b[0m\u001b[1;31m:\u001b[0m unmatched ']'\n"
     ]
    }
   ],
   "source": [
    "#from sklearn.linear_model import LogisticRegression\n",
    "#from sklearn.metrics import classification_report\n",
    "\n",
    "# Create a pipeline with a StandardScaler and a LogisticRegression classifier\n",
    "#logreg_pipeline = Pipeline([\n",
    "    #('scaler', StandardScaler()), \n",
    "    #('logreg', LogisticRegression(random_state=42))\n",
    "])\n",
    "\n",
    "# Fit the pipeline to the training set\n",
    "logreg_pipeline.fit(X_train, y_train)\n",
    "\n",
    "# Make predictions on the test set\n",
    "y_pred_logreg = logreg_pipeline.predict(X_test)\n",
    "\n",
    "# Generate and print the classification report\n",
    "print(\"Classification Report:\")\n",
    "print(classification_report(y_test, y_pred_logreg))\n"
   ]
  },
  {
   "cell_type": "markdown",
   "metadata": {},
   "source": [
    "Thats really low for a second classifier. Logistic regression is suppossed to do the below;  \n",
    "\n",
    "Logistic regression is a statistical model commonly used for binary classification tasks, where the goal is to predict one of two possible classes (e.g., 0 or 1, \"yes\" or \"no\").  \n",
    "\n",
    "Logistic regression outputs probability scores for each class.   \n",
    "\n",
    " probabilities represent the likelihood that a given input belongs to a particular class. For a binary classification problem, logistic regression calculates the probability that an observation belongs to the positive class (typically labeled as 1)."
   ]
  },
  {
   "cell_type": "markdown",
   "metadata": {},
   "source": [
    "Lets try to fing different ways to improve this model. Using this classifier, Simple models like Logistic Regression is easier to interpret compared to others."
   ]
  },
  {
   "cell_type": "code",
   "execution_count": null,
   "metadata": {},
   "outputs": [],
   "source": [
    "import pandas as pd\n",
    "from sklearn.pipeline import Pipeline\n",
    "from sklearn.compose import ColumnTransformer\n",
    "from sklearn.preprocessing import OneHotEncoder, StandardScaler\n",
    "from sklearn.impute import SimpleImputer\n",
    "from sklearn.linear_model import LogisticRegression\n",
    "from sklearn.metrics import classification_report\n",
    "from sklearn.model_selection import train_test_split\n",
    "\n",
    "# Load your data into a DataFrame\n",
    "df = pd.read_csv('./Data/clean_data.csv')  # Replace 'your_file.csv' with the actual file path\n",
    "\n",
    "# Split your data into features and target variable\n",
    "X = df.drop('status_group', axis=1)  # Replace 'status_group' with the name of your target variable\n",
    "y = df['status_group']  # Target variable\n",
    "\n",
    "# Splitting the data into training and test sets\n",
    "X_train, X_test, y_train, y_test = train_test_split(X, y, test_size=0.2, random_state=42)\n",
    "\n",
    "# Defining the preprocessing for numerical and categorical columns\n",
    "numerical_cols = ['amount_tsh', 'gps_height', 'population']\n",
    "categorical_cols = ['region', 'extraction_type_class', 'management_group', 'funder',\n",
    "                    'quantity', 'water_quality', 'waterpoint_type', 'source_type']\n",
    "\n",
    "# Define preprocessing for numerical data (imputation + scaling)\n",
    "numerical_transformer = Pipeline(steps=[\n",
    "    ('imputer', SimpleImputer(strategy='mean')),\n",
    "    ('scaler', StandardScaler())\n",
    "])\n",
    "\n",
    "# Define preprocessing for categorical data (imputation + one-hot encoding)\n",
    "categorical_transformer = Pipeline(steps=[\n",
    "    ('imputer', SimpleImputer(strategy='most_frequent')),\n",
    "    ('onehot', OneHotEncoder(handle_unknown='ignore'))\n",
    "])\n",
    "\n",
    "# Combine preprocessing for numerical and categorical data\n",
    "preprocessor = ColumnTransformer(\n",
    "    transformers=[\n",
    "        ('num', numerical_transformer, numerical_cols),\n",
    "        ('cat', categorical_transformer, categorical_cols)\n",
    "    ])\n",
    "\n",
    "# Create the logistic regression pipeline\n",
    "logreg_pipeline = Pipeline(steps=[\n",
    "    ('preprocessor', preprocessor),\n",
    "    ('classifier', LogisticRegression(max_iter=1000, random_state=42))\n",
    "])\n",
    "\n",
    "# Fit the pipeline to the training data\n",
    "logreg_pipeline.fit(X_train, y_train)\n",
    "\n",
    "# Make predictions on the test data\n",
    "y_pred = logreg_pipeline.predict(X_test)\n",
    "\n",
    "# Generate and print the classification report\n",
    "print(\"Classification Report:\")\n",
    "print(classification_report(y_test, y_pred))\n"
   ]
  },
  {
   "cell_type": "code",
   "execution_count": null,
   "metadata": {},
   "outputs": [],
   "source": [
    "# Generate the confusion matrix\n",
    "cm = confusion_matrix(y_test, y_pred)\n",
    "\n",
    "# Plot the confusion matrix with a colored heatmap\n",
    "plt.figure(figsize=(8, 6))\n",
    "sns.heatmap(cm, annot=True, fmt='d', cmap='viridis', xticklabels=logreg_pipeline.classes_, yticklabels=logreg_pipeline.classes_)\n",
    "plt.xlabel('Predicted')\n",
    "plt.ylabel('Actual')\n",
    "plt.title('Confusion Matrix')\n",
    "plt.show()"
   ]
  },
  {
   "cell_type": "markdown",
   "metadata": {},
   "source": [
    "# Feature Engineering"
   ]
  },
  {
   "cell_type": "code",
   "execution_count": null,
   "metadata": {},
   "outputs": [],
   "source": [
    "df.isnull().sum()"
   ]
  },
  {
   "cell_type": "code",
   "execution_count": null,
   "metadata": {},
   "outputs": [],
   "source": [
    "len(df['amount_tsh']), len(df['gps_height'])\n"
   ]
  },
  {
   "cell_type": "code",
   "execution_count": null,
   "metadata": {},
   "outputs": [],
   "source": [
    "print(df[['amount_tsh', 'gps_height']].head())\n"
   ]
  },
  {
   "cell_type": "markdown",
   "metadata": {},
   "source": [
    "Create Interaction Features"
   ]
  },
  {
   "cell_type": "markdown",
   "metadata": {},
   "source": [
    "Interaction features capture relationships between variables that might be missed if you only look at individual features. For instance, combining amount_tsh and gps_height could reveal insights into the relationship between these features."
   ]
  },
  {
   "cell_type": "code",
   "execution_count": null,
   "metadata": {},
   "outputs": [],
   "source": [
    "# Create an interaction feature\n",
    "df['amount_tsh_gps_height'] = df['amount_tsh'] * df['gps_height']\n"
   ]
  },
  {
   "cell_type": "markdown",
   "metadata": {},
   "source": [
    "Polynomial Features\n"
   ]
  },
  {
   "cell_type": "markdown",
   "metadata": {},
   "source": [
    "Polynomial features are used to capture non-linear relationships. For numerical features, you can create polynomial terms (e.g., squared or cubic terms)."
   ]
  },
  {
   "cell_type": "code",
   "execution_count": null,
   "metadata": {},
   "outputs": [],
   "source": [
    "from sklearn.preprocessing import PolynomialFeatures\n",
    "\n",
    "# Initialize PolynomialFeatures with degree 2 (squared terms)\n",
    "poly = PolynomialFeatures(degree=2, include_bias=False)\n",
    "\n",
    "# Fit and transform the numerical features\n",
    "X_numerical_poly = poly.fit_transform(df[numerical_cols])\n",
    "\n",
    "# Create a DataFrame from the transformed features\n",
    "df_numerical_poly = pd.DataFrame(X_numerical_poly, columns=poly.get_feature_names_out(numerical_cols))\n",
    "\n",
    "# Concatenate the original DataFrame with the new polynomial features\n",
    "df = pd.concat([df, df_numerical_poly], axis=1)\n"
   ]
  },
  {
   "cell_type": "markdown",
   "metadata": {},
   "source": [
    "Binning"
   ]
  },
  {
   "cell_type": "markdown",
   "metadata": {},
   "source": [
    "Binning involves converting continuous variables into categorical bins, which can help in managing outliers and capturing non-linear relationships"
   ]
  },
  {
   "cell_type": "code",
   "execution_count": null,
   "metadata": {},
   "outputs": [],
   "source": [
    "# Check the structure of 'gps_height'\n",
    "print(df['gps_height'].head())  # View the first few entries\n",
    "print(df['gps_height'].apply(lambda x: type(x)).unique())  # Check the data types within the column\n"
   ]
  },
  {
   "cell_type": "code",
   "execution_count": null,
   "metadata": {},
   "outputs": [],
   "source": [
    "# Check for duplicate indices\n",
    "print(df.index[df.index.duplicated()].tolist())\n",
    "\n",
    "# Check for duplicate columns\n",
    "print(df.columns[df.columns.duplicated()].tolist())\n"
   ]
  },
  {
   "cell_type": "code",
   "execution_count": null,
   "metadata": {},
   "outputs": [],
   "source": [
    "# Reset index to remove duplicates\n",
    "df = df.reset_index(drop=True)\n"
   ]
  },
  {
   "cell_type": "code",
   "execution_count": null,
   "metadata": {},
   "outputs": [],
   "source": [
    "# Remove duplicate columns, keeping the first occurrence\n",
    "df = df.loc[:, ~df.columns.duplicated()]\n"
   ]
  },
  {
   "cell_type": "code",
   "execution_count": null,
   "metadata": {},
   "outputs": [],
   "source": [
    "# Ensure 'gps_height' is numeric\n",
    "df['gps_height'] = pd.to_numeric(df['gps_height'], errors='coerce')\n",
    "\n",
    "# Define bins and labels\n",
    "bins = [0, 500, 1000, 1500, 2000, 2500, 3000]\n",
    "labels = ['Very Low', 'Low', 'Medium', 'High', 'Very High', 'Extreme']\n",
    "\n",
    "# Apply binning\n",
    "df['gps_height_binned'] = pd.cut(df['gps_height'], bins=bins, labels=labels)\n",
    "\n",
    "# Verify the result\n",
    "print(df[['gps_height', 'gps_height_binned']].head())\n"
   ]
  },
  {
   "cell_type": "code",
   "execution_count": null,
   "metadata": {},
   "outputs": [],
   "source": [
    "# Check if 'gps_height' contains any non-numeric values\n",
    "print(df['gps_height'].dtype)\n",
    "\n",
    "# Verify 'gps_height_binned' values\n",
    "print(df['gps_height_binned'].value_counts())\n"
   ]
  },
  {
   "cell_type": "code",
   "execution_count": null,
   "metadata": {},
   "outputs": [],
   "source": [
    "# Example of a domain-specific feature\n",
    "major_funders = ['Funder1', 'Funder2', 'Funder3']  # List of known major funders\n",
    "\n",
    "# Create a binary feature indicating if the funder is a major funder\n",
    "df['major_funder'] = df['funder'].apply(lambda x: 1 if x in major_funders else 0)\n"
   ]
  },
  {
   "cell_type": "markdown",
   "metadata": {},
   "source": [
    "1. Amount TSH\n",
    "Log Transformation:"
   ]
  },
  {
   "cell_type": "code",
   "execution_count": null,
   "metadata": {},
   "outputs": [],
   "source": [
    "df['log_amount_tsh'] = np.log1p(df['amount_tsh'])\n"
   ]
  },
  {
   "cell_type": "code",
   "execution_count": null,
   "metadata": {},
   "outputs": [],
   "source": [
    "bins_amount_tsh = [0, 1000, 5000, 10000, 50000, 100000]\n",
    "labels_amount_tsh = ['Very Low', 'Low', 'Medium', 'High', 'Very High']\n",
    "df['amount_tsh_binned'] = pd.cut(df['amount_tsh'], bins=bins_amount_tsh, labels=labels_amount_tsh)\n"
   ]
  },
  {
   "cell_type": "code",
   "execution_count": null,
   "metadata": {},
   "outputs": [],
   "source": [
    "from sklearn.preprocessing import StandardScaler\n",
    "scaler = StandardScaler()\n",
    "df['amount_tsh_standardized'] = scaler.fit_transform(df[['amount_tsh']])\n"
   ]
  },
  {
   "cell_type": "markdown",
   "metadata": {},
   "source": [
    "GPS Height\n",
    "Log Transformation:"
   ]
  },
  {
   "cell_type": "code",
   "execution_count": null,
   "metadata": {},
   "outputs": [],
   "source": [
    "df['log_gps_height'] = np.log1p(df['gps_height'])\n"
   ]
  },
  {
   "cell_type": "code",
   "execution_count": null,
   "metadata": {},
   "outputs": [],
   "source": [
    "bins_gps_height = [0, 500, 1000, 1500, 2000, 2500, 3000]\n",
    "labels_gps_height = ['Very Low', 'Low', 'Medium', 'High', 'Very High', 'Extreme']\n",
    "df['gps_height_binned'] = pd.cut(df['gps_height'], bins=bins_gps_height, labels=labels_gps_height)\n"
   ]
  },
  {
   "cell_type": "code",
   "execution_count": null,
   "metadata": {},
   "outputs": [],
   "source": [
    "scaler = StandardScaler()\n",
    "df['gps_height_standardized'] = scaler.fit_transform(df[['gps_height']])\n"
   ]
  },
  {
   "cell_type": "markdown",
   "metadata": {},
   "source": [
    "3. Population Log Transformation"
   ]
  },
  {
   "cell_type": "code",
   "execution_count": null,
   "metadata": {},
   "outputs": [],
   "source": [
    "df['log_population'] = np.log1p(df['population'])\n"
   ]
  },
  {
   "cell_type": "code",
   "execution_count": null,
   "metadata": {},
   "outputs": [],
   "source": [
    "bins_population = [0, 500, 1000, 5000, 10000, 50000]\n",
    "labels_population = ['Very Small', 'Small', 'Medium', 'Large', 'Very Large']\n",
    "df['population_binned'] = pd.cut(df['population'], bins=bins_population, labels=labels_population)\n"
   ]
  },
  {
   "cell_type": "code",
   "execution_count": null,
   "metadata": {},
   "outputs": [],
   "source": [
    "scaler = StandardScaler()\n",
    "df['population_standardized'] = scaler.fit_transform(df[['population']])\n"
   ]
  },
  {
   "cell_type": "markdown",
   "metadata": {},
   "source": [
    "Interaction Features\n",
    "1. Amount TSH and GPS Height Interaction"
   ]
  },
  {
   "cell_type": "code",
   "execution_count": null,
   "metadata": {},
   "outputs": [],
   "source": [
    "df['amount_tsh_gps_height'] = df['amount_tsh'] * df['gps_height']\n"
   ]
  },
  {
   "cell_type": "markdown",
   "metadata": {},
   "source": [
    "2.Amount TSH and Population Interaction:"
   ]
  },
  {
   "cell_type": "code",
   "execution_count": null,
   "metadata": {},
   "outputs": [],
   "source": [
    "df['amount_tsh_population'] = df['amount_tsh'] * df['population']\n"
   ]
  },
  {
   "cell_type": "markdown",
   "metadata": {},
   "source": [
    "3.GPS Height and Population Interaction:"
   ]
  },
  {
   "cell_type": "code",
   "execution_count": null,
   "metadata": {},
   "outputs": [],
   "source": [
    "df['gps_height_population'] = df['gps_height'] * df['population']\n"
   ]
  }
 ],
 "metadata": {
  "kernelspec": {
   "display_name": "Python 3",
   "language": "python",
   "name": "python3"
  },
  "language_info": {
   "codemirror_mode": {
    "name": "ipython",
    "version": 3
   },
   "file_extension": ".py",
   "mimetype": "text/x-python",
   "name": "python",
   "nbconvert_exporter": "python",
   "pygments_lexer": "ipython3",
   "version": "3.12.4"
  }
 },
 "nbformat": 4,
 "nbformat_minor": 2
}
